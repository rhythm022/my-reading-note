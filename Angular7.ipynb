{
 "cells": [
  {
   "cell_type": "markdown",
   "metadata": {},
   "source": [
    "安哥拉，Data驱动。\n",
    "component为最小单位，负责:显示Data几监听事件。"
   ]
  },
  {
   "cell_type": "markdown",
   "metadata": {},
   "source": [
    "最top的component成为shell，一般即app.component。\n",
    "component由三部分组成:classCode、template、styles、testCode。styles私有。(src外的styles是public的)"
   ]
  },
  {
   "cell_type": "markdown",
   "metadata": {},
   "source": [
    "component由componentSymbol装饰，在componentSymbol中传入metaData。"
   ]
  },
  {
   "cell_type": "markdown",
   "metadata": {},
   "source": [
    "component的类属性可以直接在component的template中{{}}使用。\n",
    "安哥拉中组件的类属性就是react的组件state"
   ]
  },
  {
   "cell_type": "markdown",
   "metadata": {},
   "source": [
    "定义type请在src的顶层目录下建ts文件"
   ]
  },
  {
   "cell_type": "markdown",
   "metadata": {},
   "source": [
    "安哥拉中的pipe在react中好像是不需要的。"
   ]
  },
  {
   "cell_type": "markdown",
   "metadata": {},
   "source": [
    "使用双向绑定的条件是在src的顶层目录下的app.module.ts中注册FormsModule，HerosComponent也是在app.module中被注册"
   ]
  },
  {
   "cell_type": "markdown",
   "metadata": {},
   "source": [
    "除了顶层组件，在src顶层分散成几个文件，其他的component在src顶层以文件夹的形成存在。"
   ]
  },
  {
   "cell_type": "markdown",
   "metadata": {},
   "source": [
    "安哥拉的<li *ngFor=\"let hero of heroes\">与react的map相比更落伍。称li元素是nfFor的host元素。"
   ]
  },
  {
   "cell_type": "markdown",
   "metadata": {},
   "source": [
    "安哥拉的 <div *ngIf=\"selectedHero\"> 与react相比更落伍"
   ]
  },
  {
   "cell_type": "markdown",
   "metadata": {},
   "source": [
    " 安哥拉的[class.selected]=\"hero === selectedHero\"与react相比更落伍"
   ]
  },
  {
   "cell_type": "markdown",
   "metadata": {},
   "source": [
    "如果将react的state视为数据对象。\n",
    "react中没有像ngModel一样的双向绑定的指令，但有双向绑定。单向绑定大家都有。"
   ]
  },
  {
   "cell_type": "markdown",
   "metadata": {},
   "source": [
    "安哥拉的更落伍的propertyBinding<app-hero-detail [hero]=\"selectedHero\"></app-hero-detail>中的hero是react的子组件的props，selectedHero是父组件的state"
   ]
  },
  {
   "cell_type": "markdown",
   "metadata": {},
   "source": []
  },
  {
   "cell_type": "markdown",
   "metadata": {},
   "source": [
    "service和react的store类似被所有组件共享。\n",
    "和react的store类似，service也可以在所需的组件中直接import { HeroService} from '../hero.service';\n",
    "被注入的service也是单例的。"
   ]
  },
  {
   "cell_type": "markdown",
   "metadata": {},
   "source": [
    "落伍的MessageService in HeroService类似于MessageReducer和HeroReducer。\n",
    "reducer的数据全在一处store，而service的数据在各个service里。"
   ]
  },
  {
   "cell_type": "markdown",
   "metadata": {},
   "source": []
  },
  {
   "cell_type": "markdown",
   "metadata": {},
   "source": []
  },
  {
   "cell_type": "markdown",
   "metadata": {},
   "source": []
  },
  {
   "cell_type": "markdown",
   "metadata": {},
   "source": []
  }
 ],
 "metadata": {
  "kernelspec": {
   "display_name": "Python 3",
   "language": "python",
   "name": "python3"
  },
  "language_info": {
   "codemirror_mode": {
    "name": "ipython",
    "version": 3
   },
   "file_extension": ".py",
   "mimetype": "text/x-python",
   "name": "python",
   "nbconvert_exporter": "python",
   "pygments_lexer": "ipython3",
   "version": "3.6.6"
  },
  "toc": {
   "base_numbering": 1,
   "nav_menu": {},
   "number_sections": true,
   "sideBar": true,
   "skip_h1_title": false,
   "title_cell": "Table of Contents",
   "title_sidebar": "Contents",
   "toc_cell": false,
   "toc_position": {},
   "toc_section_display": true,
   "toc_window_display": false
  }
 },
 "nbformat": 4,
 "nbformat_minor": 2
}
