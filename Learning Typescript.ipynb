{
 "cells": [
  {
   "cell_type": "markdown",
   "metadata": {},
   "source": [
    "# Introducing Ts"
   ]
  },
  {
   "cell_type": "markdown",
   "metadata": {},
   "source": [
    "namespace放在class的位置用：\n",
    "namespace Foo{}"
   ]
  },
  {
   "cell_type": "markdown",
   "metadata": {},
   "source": [
    "null，undefined在非严格模式下可以赋值给任何类型的variable\n",
    "tsc -strictNullChecks file.ts"
   ]
  },
  {
   "cell_type": "markdown",
   "metadata": {},
   "source": [
    "void类型是any类型的背面"
   ]
  },
  {
   "cell_type": "markdown",
   "metadata": {},
   "source": [
    "在Ts中，tuple类型是形如:[string,number]的类型"
   ]
  },
  {
   "cell_type": "markdown",
   "metadata": {},
   "source": [
    "undefined是指variable已经被声明而没有值的一种状态，null是variable指有值而值为null"
   ]
  },
  {
   "cell_type": "markdown",
   "metadata": {},
   "source": [
    "spread Operation用在Array和object的create（merge，copy）上：\n",
    "let copyObj = {...originalObj1}; \n",
    "let mergedArr = [...originalArr1, ...originalArr2];\n",
    "let newObjObj = {... originalObj1, g: 7, h: 8};"
   ]
  },
  {
   "cell_type": "markdown",
   "metadata": {},
   "source": [
    "variable或expression有value"
   ]
  },
  {
   "cell_type": "markdown",
   "metadata": {},
   "source": [
    "enum AlertLevel和switch-case连用：\n",
    "function getAlertSubscribers(level: AlertLevel) {\n",
    "\tlet emails = new Array<string>();\n",
    "\tswitch (level) {\n",
    "\t\tcase AlertLevel.info:\n",
    "\t\t\temails.push(\"cst@domain.com\");\n",
    "\t\t\tbreak;"
   ]
  },
  {
   "cell_type": "markdown",
   "metadata": {},
   "source": [
    "for...of可遍历Array，string，argumentsObject和map，set：\n",
    "let iterable = [10, 20, 30];\n",
    "for (let value of iterable) {\n",
    "\tconsole.log(value);\n",
    "} "
   ]
  },
  {
   "cell_type": "markdown",
   "metadata": {},
   "source": [
    "# Chapter2 Working with Types"
   ]
  },
  {
   "cell_type": "markdown",
   "metadata": {},
   "source": [
    "ts使用的是Structural type syste，也兼容Nominal type system。比如函数的parameter为Person类型，实际的argument①如果是new类传入的，这个类不需要写明implements Person，②如果是variable传入的，这个variable不需要写明:Person"
   ]
  },
  {
   "cell_type": "markdown",
   "metadata": {},
   "source": [
    "typeGuards是将variable从 | 类型、any类型变为单类型的过程。"
   ]
  },
  {
   "cell_type": "markdown",
   "metadata": {},
   "source": [
    "| 接口(Union types)是形如Supplier | Customer的接口，| 接口不能作为类的接口。"
   ]
  },
  {
   "cell_type": "markdown",
   "metadata": {},
   "source": [
    "&接口(Intersection types)是形如Supplier & Customer的接口，&接口常作为类的接口"
   ]
  },
  {
   "cell_type": "markdown",
   "metadata": {},
   "source": [
    "====================================="
   ]
  },
  {
   "cell_type": "markdown",
   "metadata": {},
   "source": [
    "试试tsc --noImplicitAny test.ts：\n",
    "function fn(a,b){\n",
    "\treturn a+b\n",
    "}"
   ]
  },
  {
   "cell_type": "markdown",
   "metadata": {},
   "source": [
    "type NumberType = typeof myNumber"
   ]
  },
  {
   "cell_type": "markdown",
   "metadata": {},
   "source": [
    "====================================="
   ]
  },
  {
   "cell_type": "markdown",
   "metadata": {},
   "source": [
    "typeGuards总的有：\n",
    "person:Supplier|Customer对应person.order != undefined，这个很烦，必须用isCustomer(person: ICustomer | ISupplier): person is ICustomer,称为自定义typeGuards。\n",
    "person:Supplier|Customer对应person instanceof Supplier，这个简单\n",
    "animal:IDog|ICat|Iman对应\"woof\" in animal，这个中等，虽然编译时判断:对象的woof、运行时判断:接口的woof，但起码都是值woof\n",
    "value: number | number[] 对应Array.isArray(value)，这个简单。\n",
    "shape:Cube | Pyramid | Sphere对应 shape.kind == \"cube\"，这个难。"
   ]
  },
  {
   "cell_type": "markdown",
   "metadata": {},
   "source": [
    "自定义typeGuards：\n",
    "interface ISupplier {\n",
    "\torder(): void;\n",
    "}\n",
    "interface ICustomer {\n",
    "\tbuy(): void;\n",
    "}\n",
    "class Customer implements ICustomer {\n",
    "\tbuy(): void { };\n",
    "}\n",
    "\n",
    "function isCustomer(person: ICustomer | ISupplier): person is ICustomer {\n",
    "\treturn (<ICustomer>person).buy != undefined\n",
    "}\n",
    "function ffff(person: ICustomer | ISupplier) {\n",
    "\tif (isCustomer(person)) {\n",
    "\t\tperson.buy()\n",
    "\t\tconsole.log(\"23333333\")\n",
    "\t}\n",
    "}\n",
    "let myCustomer = new Customer()\n",
    "ffff(myCustomer)"
   ]
  },
  {
   "cell_type": "markdown",
   "metadata": {},
   "source": [
    "shape:Cube | Pyramid | Sphere对应 shape.kind == \"cube\"，这个难(前提是Cube接口中必须kind:\"Cube”，实现Cube接口的类也必须kind:\"Cube\"=“Cube”。\n",
    "☆☆☆☆☆☆类型的Cube是编译时给shape.kind == \"Cube\"做判断用的，值的Cube是运行时给shape.kind == \"Cube\"做判断用的)：\n",
    "interface ICube{\n",
    "\tkind:\"Cube\"\n",
    "\thhh():void;\n",
    "}\n",
    "interface IPyramid{\n",
    "\tkind:\"Pyramid\"\n",
    "}\n",
    "\n",
    "class Pyramid implements IPyramid{\n",
    "\tkind:\"Pyramid\" = \"Pyramid\"\n",
    "}\n",
    "class Cube implements ICube{\n",
    "\tkind:\"Cube\" = \"Cube\";\n",
    "\thhh():void{}\n",
    "\n",
    "}\n",
    "function fn(shape:ICube|IPyramid){\n",
    "\tif(shape.kind ==\"Cube\"){\n",
    "\t\tshape.hhh()\n",
    "\t\tconsole.log(\"OK\")\n",
    "\t}\n",
    "}\n",
    "let myCube = new Cube()\n",
    "fn(myCube)"
   ]
  },
  {
   "cell_type": "markdown",
   "metadata": {},
   "source": [
    "====================================="
   ]
  },
  {
   "cell_type": "markdown",
   "metadata": {},
   "source": [
    "在编译时用typeof提取variable的类型，用keyof提取类型的属性名并转化成literalType的 | 类型：\n",
    "let person = { name: \"Remo\", age: \"28\" };\n",
    "interface User {\n",
    "\tname: string;\n",
    "\tage: number;\n",
    "}\n",
    "type userKeys = keyof typeof person; // \"name\" | \"age\" "
   ]
  },
  {
   "cell_type": "markdown",
   "metadata": {},
   "source": []
  },
  {
   "cell_type": "markdown",
   "metadata": {},
   "source": [
    "\n",
    "let a:Array<number|string> = ['1',2,3,4]\n",
    "let b:string = a[0]"
   ]
  },
  {
   "cell_type": "markdown",
   "metadata": {},
   "source": [
    "你可以在函数外定义接口，在函数内定义实现该接口的类。你可以在任何地方定义type，interface"
   ]
  },
  {
   "cell_type": "markdown",
   "metadata": {},
   "source": [
    "========================================="
   ]
  },
  {
   "cell_type": "markdown",
   "metadata": {},
   "source": [
    "☆☆☆☆☆T接口有点类似于any类型。\n",
    "定义function，interface时使用T接口，表明T接口暂时不定义。\n",
    "定义function，interface时使用T extends IComparableWith<TT>，表明虽然T接口暂不定义，但是IComparableWith<TT>接口先给你用着：\n",
    "interface IComparableWith<T> {\n",
    "\tisEquals(other: T): boolean;\n",
    "}\n",
    "\n",
    "function isEqual<T extends IComparableWith<T>>(one: T, another: T) {\n",
    "\treturn one.isEquals(another)\n",
    "}\n",
    "function isEqual_<T extends IComparableWith<TT>, TT>(one: T, another: TT) {\n",
    "\treturn one.isEquals(another)\n",
    "}\n",
    "比较：\n",
    "interface T {\n",
    "\tisEquals(other: T): void;\n",
    "}\n",
    "function isEquals(one: T, another: T) {\n",
    "\treturn one.isEquals(another)\n",
    "}"
   ]
  },
  {
   "cell_type": "markdown",
   "metadata": {},
   "source": [
    "☆☆☆☆☆接口的属性有属性类型和值类型，两个类型。属性名即属性的属性类型。\n",
    "K extends keyof IUser表明K是IUser接口的属性类型以及属性名\n",
    "IUser[K]指的是IUser中属性类型为K的类型：\n",
    "function findObjectByValueInKey<T, K extends keyof T>(entities: T[], key: K, value: T[K]) {\n",
    "\treturn entities.filter(entity => entity[key] == value)\n",
    "}\n",
    "比较：\n",
    "interface IUser {\n",
    "\tid: number;\n",
    "\tname: string\n",
    "}\n",
    "function findUserByValueInKey<K extends keyof IUser>(entities: IUser[], key: K, value: IUser[K]) {\n",
    "\treturn entities.filter(entity => entity[key] == value)\n",
    "}\n",
    "const users = [\n",
    "        { name: \"Smith\", id: 28 },\n",
    "        { name: \"Johnson\", id: 55 },\n",
    "        { name: \"Williams\", id: 14 }\n",
    "];\n",
    "findUserByValueInKey<\"name\">(users,\"name\",'Smith')"
   ]
  },
  {
   "cell_type": "markdown",
   "metadata": {},
   "source": [
    "==================================="
   ]
  },
  {
   "cell_type": "markdown",
   "metadata": {},
   "source": [
    "immutable == readonly"
   ]
  },
  {
   "cell_type": "markdown",
   "metadata": {},
   "source": [
    "type上出现T类型，要么是凭借他，要么是改变他。\n",
    "//拿到一个列表类型里，元素的类型：\n",
    "interface IUser {\n",
    "\tid: number;\n",
    "\tname: string\n",
    "}\n",
    "type Flatten_<T> = T extends Array<infer U> ? U :T;\n",
    "type Flatten<T> = T extends Array<any> ? T[number] :T;//一个variable的类型决定另一个variable的类型\n",
    "type IUserArray = IUser[][]\n",
    "type number_ = Flatten<IUserArray>\n",
    "//拿到一个函数类型里，返回值的类型：\n",
    "type ReturnedType<T extends (...args:any[])=>any> = T extends (...args:any[])=>infer R? R :any;\n",
    "type find = ()=>number\n",
    "type b = ReturnedType<find>\n",
    "//拿到 | 类型里，符合条件的类型\n",
    "let aaa:Exclude<boolean|boolean[]|string[],any[]> = true\n",
    "let nnn:ReturnType<func> = 3\n"
   ]
  },
  {
   "cell_type": "markdown",
   "metadata": {},
   "source": [
    "# Chapter 3 Working with Functions"
   ]
  },
  {
   "cell_type": "markdown",
   "metadata": {},
   "source": [
    "避免使用...args:any[]，请直接使用args:any[]"
   ]
  },
  {
   "cell_type": "markdown",
   "metadata": {},
   "source": [
    "函数重载:\n",
    "interface IDocument {\n",
    "\tcreateElement(tagName: \"div\"): HTMLDivElement;\n",
    "\tcreateElement(tagName: \"span\"): HTMLSpanElement;\n",
    "\tcreateElement(tagName: \"canvas\"): HTMLCanvasElement;\n",
    "\t//createElement(tagName: string): HTMLElement;\n",
    "}\n",
    "class Document_ implements IDocument {\n",
    "\tcreateElement(tagName: \"div\"): HTMLDivElement;\n",
    "\tcreateElement(tagName: \"span\"): HTMLSpanElement;\n",
    "\tcreateElement(tagName: \"canvas\"): HTMLCanvasElement;\n",
    "\tcreateElement(tagName: string): HTMLElement {\n",
    "\t\treturn\n",
    "\t};\n",
    "}\n",
    "\n",
    "和：\n",
    "function test(name: string): string;\n",
    "function test(age: number): number;\n",
    "function test(single: boolean): string;\n",
    "function test(value: (string | number | boolean)): string | number {\n",
    "\treturn\n",
    "}"
   ]
  },
  {
   "cell_type": "markdown",
   "metadata": {},
   "source": [
    "在大多数lexical-scoped语言中，变量是存活在{}块中的，而JavaScript中用var定义的变量是存活在函数中的。所以只有var变量存在var变量提升。\n",
    "variable存活的区域，叫做scope。\n",
    "变量提升，变量的值不提升。"
   ]
  },
  {
   "cell_type": "markdown",
   "metadata": {},
   "source": [
    "虽然const变量不能二次赋值，但const变量不是immutable"
   ]
  },
  {
   "cell_type": "markdown",
   "metadata": {},
   "source": [
    "==================================="
   ]
  },
  {
   "cell_type": "markdown",
   "metadata": {},
   "source": [
    "异步操作==出内存的操作。\n",
    "串行异步操作，自身阶段的操作在函数定义阶段定义，下步(成功和失败)操作在函数调用阶段定义。\n",
    "在asyncFunction块之外才需要，.then().catch()"
   ]
  },
  {
   "cell_type": "markdown",
   "metadata": {},
   "source": [
    "# Chapter 4 OOP with TypeScript"
   ]
  },
  {
   "cell_type": "markdown",
   "metadata": {},
   "source": [
    "interface IRectangle_{\n",
    "\twidth:string;\n",
    "\theight:string;\n",
    "}\n",
    "class Rectangle_ implements IRectangle_{\n",
    "\twidth:string;\n",
    "\theight!:string;\n",
    "\tconstructor(width:string){\n",
    "\t\tthis.width = width\n",
    "\t}\n",
    "}"
   ]
  },
  {
   "cell_type": "markdown",
   "metadata": {},
   "source": [
    "let b:Readonly<number[]> = [1,2]"
   ]
  },
  {
   "cell_type": "markdown",
   "metadata": {},
   "source": [
    "☆☆☆☆☆，类智能单继承，但接口可以多继承。 generic constraint 也是单的\n",
    "interface FooBar extends Foo, Bar {}\n",
    "class Example2<T extends FooBar> {"
   ]
  },
  {
   "cell_type": "markdown",
   "metadata": {},
   "source": [
    "Association：无父子关系，生命周期各自独立。如老师与学生\n",
    "Aggregation ：有父子关系，生命周期各自独立，如手机和手机电池。\n",
    "Composition ：有父子关系，同一生命周期，如问题和答案。"
   ]
  },
  {
   "cell_type": "markdown",
   "metadata": {},
   "source": [
    "applyMixins只涉及构造函数prototype中属性和方法的平移。\n",
    "__ extends涉及构造函数①静态属性和方法的平移②prototype中属性和方法转移到对方prototype的__proto__中"
   ]
  },
  {
   "cell_type": "markdown",
   "metadata": {},
   "source": [
    "============================"
   ]
  },
  {
   "cell_type": "markdown",
   "metadata": {},
   "source": [
    "ES5及之前，对象的属性的key只能是字符串。ES6之后，对象的属性的key可以是字符串或symbol。当用variable的值作为对象属性的key时要加[]括号，所以用值为symbol的variable作为对象的属性时必须：\n",
    "\tobj = {\n",
    "\t\t[anySymbol]: \"anyValue\"\n",
    "\t};"
   ]
  },
  {
   "cell_type": "markdown",
   "metadata": {},
   "source": [
    "Iterator是拥有next函数的对象，Iterable是拥有[Symbol.iterator]函数的对象，[Symbol.iterator]函数产生Iterator对象，IterableIterator即实现Iterable右实现了Iterator：\n",
    "class Fib implements IterableIterator<number>{\n",
    "\tvalue = 0;\n",
    "\tnextValue = 1;\n",
    "\tnext(): IteratorResult<number> {\n",
    "\t\tlet current = this.value\n",
    "\t\tthis.value = this.nextValue\n",
    "\t\tthis.nextValue = current + this.value;\n",
    "\t\treturn { done: false, value: current }\n",
    "\t}\n",
    "\t[Symbol.iterator](): IterableIterator<number> {\n",
    "\t\treturn new Fib()\n",
    "\t}\n",
    "}"
   ]
  },
  {
   "cell_type": "markdown",
   "metadata": {},
   "source": [
    "============================================="
   ]
  },
  {
   "cell_type": "markdown",
   "metadata": {},
   "source": [
    "如果要将子类的函数名，在父类中也放一份，请将父类设置成abstract"
   ]
  },
  {
   "cell_type": "markdown",
   "metadata": {},
   "source": [
    "在ts中，接口可继承类，多个类"
   ]
  },
  {
   "cell_type": "markdown",
   "metadata": {},
   "source": [
    "======================================="
   ]
  },
  {
   "cell_type": "markdown",
   "metadata": {},
   "source": [
    "\n",
    "Email依赖Person：Email拥有validateEmail函数。Email输出email对象给Person。email验证好给我\n",
    "Rectangle，Circle依赖AreaCalculator：Rectangle，Circle拥有area函数。Rectangle，Circle输出area函数给AreaCalculator。面积算好了给我。\n",
    "CookiePersitanceService，LocalStoragePersitanceService依赖FavouritesController：前两者拥有save函数。前两者(dependency)输出save函数给后者(client)。我们这种将一个对象(dependency)的行为交由另一个对象(client)代理的行为，叫做dependency injection。☆☆☆☆☆在ts中，如果这种代理(injection)是间接的，也就是说，不是直接的类代理(inject)类，而是间接的类代理接口，则称这种代理接口的行为，称作dependency inversion"
   ]
  },
  {
   "cell_type": "markdown",
   "metadata": {},
   "source": [
    "试试：\n",
    "document.cookie = `${id}=${value}`;\n",
    "function getUniqueId() {  \n",
    "  return Math.random().toString(36).substr(2, 9); \n",
    "}"
   ]
  },
  {
   "cell_type": "markdown",
   "metadata": {},
   "source": [
    "# Chapter5 Working with Dependencies"
   ]
  },
  {
   "cell_type": "markdown",
   "metadata": {},
   "source": [
    "bower落伍了，yarn新潮"
   ]
  },
  {
   "cell_type": "markdown",
   "metadata": {},
   "source": [
    "npm init --yes\n",
    "npm install\n",
    "npm outdated"
   ]
  },
  {
   "cell_type": "markdown",
   "metadata": {},
   "source": [
    "在ts中CommonJS的语法任何情况都不会被转化。tsconfig.json中module:\"amd\"最保险，此时es2015语法会被转化amd，前端需要requireJS配合使用。"
   ]
  },
  {
   "cell_type": "markdown",
   "metadata": {},
   "source": [
    "# Chapter6  Understanding the runtime"
   ]
  },
  {
   "cell_type": "markdown",
   "metadata": {},
   "source": [
    "函数被bind后，则对apply和call失效。"
   ]
  },
  {
   "cell_type": "markdown",
   "metadata": {},
   "source": [
    "构造函数构造对象。在ts中，构造函数外套一层IIFE"
   ]
  },
  {
   "cell_type": "markdown",
   "metadata": {},
   "source": [
    "使用this.constructor在对象方法中call类属性，如：\n",
    "this.constructor.PI"
   ]
  },
  {
   "cell_type": "markdown",
   "metadata": {},
   "source": [
    "访问prototype只推荐Person.prototype"
   ]
  },
  {
   "cell_type": "markdown",
   "metadata": {},
   "source": [
    "类的属性、方法==静态属性、静态方法，对所有对象的对象方法开放，也对全局开放。\n",
    "☆☆☆☆☆类的方法被多个对象的方法共享的行为，这叫singleton行为。这个类方法，可以叫context。\n",
    "☆☆☆☆☆闭包方法1，是①对全局私有②被对象方法共享的方法，类似于静态方法。附加闭包方法1的类，只需要在class外套一个IIFE：\n",
    "let Counter_ = function() {\n",
    "\tlet _COUNT = 0;\n",
    "\tclass Counter{\n",
    "\t\tincrease(){\n",
    "\t\t\t_COUNT +=1\n",
    "\t\t\treturn _COUNT\n",
    "\t\t}\n",
    "\t}\n",
    "\treturn Counter\n",
    "}()\n",
    "let counter1 = new Counter_()\n",
    "console.log(counter1.increase())\n",
    "let counter2 = new Counter_()\n",
    "console.log(counter1.increase())"
   ]
  },
  {
   "cell_type": "markdown",
   "metadata": {},
   "source": [
    "☆☆☆☆☆闭包方法2，是①对全局私有②对象之间也私有的方法，附加闭包方法2的类，call时不需要new：\n",
    "let Counter = function() {\n",
    "\tlet _COUNT = 0\n",
    "\tclass Counter {\n",
    "\t\tincrease() {\n",
    "\t\t\t_COUNT += 1\n",
    "\t\t\treturn _COUNT\n",
    "\t\t}\n",
    "\t}\n",
    "\treturn new Counter()\n",
    "}\n",
    "let counter1 = Counter()\n",
    "console.log(counter1.increase())\n",
    "let counter2 = Counter()\n",
    "console.log(counter2.increase())"
   ]
  },
  {
   "cell_type": "markdown",
   "metadata": {},
   "source": [
    "# Chapter 7 FP"
   ]
  },
  {
   "cell_type": "markdown",
   "metadata": {},
   "source": [
    "OOP程序的构件是object，FP程序的构件是function"
   ]
  },
  {
   "cell_type": "markdown",
   "metadata": {},
   "source": [
    "☆☆☆☆☆compose函数就像只有一个属性和只有一个方法的类"
   ]
  },
  {
   "cell_type": "markdown",
   "metadata": {},
   "source": [
    "执行器==执行函数业务逻辑的函数"
   ]
  },
  {
   "cell_type": "markdown",
   "metadata": {},
   "source": [
    "FP精髓是函数的嵌套，和函数的waterfall。"
   ]
  },
  {
   "cell_type": "markdown",
   "metadata": {},
   "source": [
    "call compose函数来储存函数，compose函数返回值为执行器，call执行器会顺序执行被储存的函数。\n",
    "let compose2: <T>(f: (x: T) => T, g: (x: T) => T) => (x: T) => T\n",
    "let compose2_: <T1,T2,T3>(f: (x: T2) => T3, g: (x: T1) => T2 ) => (x: T1) => T3;\n",
    "compose2_ = <T>(f, g) => (x: T) => f(g(x))\n",
    "let compose3 = (f, g, h) => compose2(compose2(f, g), h)"
   ]
  },
  {
   "cell_type": "markdown",
   "metadata": {},
   "source": [
    "终极函数储存器：\n",
    "let composeX = (funcs: []) => {\n",
    "\targ => funcs.reduce((prev, current:(arg:any)=>any) => current(prev), arg)\n",
    "}"
   ]
  },
  {
   "cell_type": "markdown",
   "metadata": {},
   "source": [
    "partial application，是指对一个函数的不完全使用，不执行主逻辑只储存参数，返回值为执行器。依据传参情况决定对函数是部分使用还是完全使用(complete application)"
   ]
  },
  {
   "cell_type": "markdown",
   "metadata": {},
   "source": [
    "function curry2(fn){\n",
    "\treturn a=>b=>fn(a,b)\n",
    "}\n",
    "function curry3(fn){\n",
    "\treturn a=>b=>c=>fn(a,b,c)\n",
    "}\n",
    "☆☆☆☆☆fn是执行器。compose是合并生成一个执行器的技术，curry是分次加载参数的技术，两者可以共用：\n",
    "function curryAndcomposeX(fn[]){\n",
    "\treturn a=>b=>c=>d => funcs.reduce((prev, current:(arg:any)=>any) => current(prev), [a,b,c,d])\n",
    "}"
   ]
  },
  {
   "cell_type": "markdown",
   "metadata": {},
   "source": [
    "将执行器参数和普通参数分开传参的风格，叫做Pointfree style "
   ]
  }
 ],
 "metadata": {
  "kernelspec": {
   "display_name": "Python 3",
   "language": "python",
   "name": "python3"
  },
  "language_info": {
   "codemirror_mode": {
    "name": "ipython",
    "version": 3
   },
   "file_extension": ".py",
   "mimetype": "text/x-python",
   "name": "python",
   "nbconvert_exporter": "python",
   "pygments_lexer": "ipython3",
   "version": "3.6.6"
  },
  "toc": {
   "base_numbering": 1,
   "nav_menu": {},
   "number_sections": true,
   "sideBar": true,
   "skip_h1_title": false,
   "title_cell": "Table of Contents",
   "title_sidebar": "Contents",
   "toc_cell": false,
   "toc_position": {},
   "toc_section_display": true,
   "toc_window_display": false
  }
 },
 "nbformat": 4,
 "nbformat_minor": 2
}
