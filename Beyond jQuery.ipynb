{
 "cells": [
  {
   "cell_type": "markdown",
   "metadata": {},
   "source": [
    "# Chapter Three"
   ]
  },
  {
   "cell_type": "markdown",
   "metadata": {},
   "source": [
    "IE9及以上可以脱离jQuery"
   ]
  },
  {
   "cell_type": "markdown",
   "metadata": {},
   "source": [
    "DOM API中的EventTarget类，在继承链的顶端，定义了addEventListener 的方法，☆☆☆☆☆所以window，document，element对象会有addEventListener方法。\n",
    "EventTarget被Node类继承，Node类定义了克隆节点和定位兄弟节点的方法\n",
    "然后Node被Element类和CharacterData类继承，Element类对应HTML元素即tag，CharacterData类对应HTML中的text和注释。\n",
    "☆☆☆☆☆除了每种Node对应一个类来control，Document类作为一种整体control手段被定义。所以有了Document类去继承Node。Document类，定义了关于style的方法。Document是没有被其他类继承，即Document是没有子类的。"
   ]
  },
  {
   "cell_type": "markdown",
   "metadata": {},
   "source": [
    "DOM API中的Element类被HTMLAnchorElement， HTMLDivElement， HTMLSpanElement等类继承，继承Element的property如className"
   ]
  },
  {
   "cell_type": "markdown",
   "metadata": {},
   "source": [
    "所以DOM API不仅规范了document对象，也规范了element对象，node对象。\n",
    "window对象除了包含document对象，也包含另外对非DOM API的实现，比如对File API。\n",
    "DOM API和非DOM API共同构成了Web API。"
   ]
  },
  {
   "cell_type": "markdown",
   "metadata": {},
   "source": [
    "以上所有这些类，方法，属性构成了DOM规范。\n",
    "第一版DOM规范由W3C在1998出版，最新的DOM规范是DOM Level 3 Core，2004成为推荐规范。\n",
    "DOM HTML规范比DOM Core多了一些HTML的规范，定义了element的共有属性如id，className，title。\n",
    "DOM HTML最新的规范是DOM Level2 HTML，2003成为推荐规范。"
   ]
  },
  {
   "cell_type": "markdown",
   "metadata": {},
   "source": [
    "Selector API规范并不在上述规范中，Selector规范目前在Level4。Selector类被Document类和Element类继承。\n",
    "DOM4打算将这些在规范外的规范全部囊括。"
   ]
  },
  {
   "cell_type": "markdown",
   "metadata": {},
   "source": [
    "HTML5规范是2014成为推荐规范的，HTML5是DOM规范之一，定义了新的element(即新的tag)如<picture>,新的attribute如placeholder，required，新的property如dataset，如img的naturalHeight，新的接口如History类，Fetch类。"
   ]
  },
  {
   "cell_type": "markdown",
   "metadata": {},
   "source": [
    "requiredAttribute归属在constraints API下"
   ]
  },
  {
   "cell_type": "markdown",
   "metadata": {},
   "source": [
    "In short, the DOM APIs  provide a way to read, update, traverse, and create document elements.\n",
    "jQuery的强大来源于原生DOM API。"
   ]
  },
  {
   "cell_type": "markdown",
   "metadata": {
    "ExecuteTime": {
     "end_time": "2018-12-12T09:34:01.145776Z",
     "start_time": "2018-12-12T09:34:01.135269Z"
    }
   },
   "source": [
    "# Finding HTML Elements"
   ]
  },
  {
   "cell_type": "markdown",
   "metadata": {
    "ExecuteTime": {
     "end_time": "2018-12-12T12:39:51.058640Z",
     "start_time": "2018-12-12T12:39:51.052659Z"
    }
   },
   "source": [
    "#### 搜索（不需要兼容IE8的话随便用，反之避开getElementsByClassName就行）"
   ]
  },
  {
   "cell_type": "markdown",
   "metadata": {},
   "source": [
    "getElementsByClassName定义在DOM4中兼容IE9，返回的是更fast的HTMLCollection，与之对比querySelectorAll定义在DOM3中兼容IE8(conditional),返回的是普通的NodeList。\n",
    "getElementsByClassName和querySelectorAll都可以局部搜索。\n",
    "IE7只能靠jQuery了。\n",
    "querySelector和getElementById对比差别不大。"
   ]
  },
  {
   "cell_type": "markdown",
   "metadata": {},
   "source": [
    "可以自造ajax-form element通过拓展<form>"
   ]
  },
  {
   "cell_type": "markdown",
   "metadata": {},
   "source": [
    "getElementsByTagName，getElementById没有兼容性问题，能完成任务的话尽管用"
   ]
  },
  {
   "cell_type": "markdown",
   "metadata": {},
   "source": [
    " :visited 可能命中不了，出于隐私的问题。"
   ]
  },
  {
   "cell_type": "markdown",
   "metadata": {},
   "source": [
    " Array = [].slice.call(NodeList); \n",
    " var obj = {}; //对象\n",
    " [].push.call(obj, 300)"
   ]
  },
  {
   "cell_type": "markdown",
   "metadata": {},
   "source": [
    "#### 找父亲（node.parentNode或node.parentElement随便用）"
   ]
  },
  {
   "cell_type": "markdown",
   "metadata": {},
   "source": [
    "parentNode，parentElement都是Node接口下的方法，没有兼容性问题随便用。\n",
    "HTMLHtmlElement控制<html>,HTMLHtmlElement没有父Element但有父Node:document。\n",
    "<html>的parentNode为document，parentElement为null。"
   ]
  },
  {
   "cell_type": "markdown",
   "metadata": {},
   "source": [
    "#### 找儿子（不需要兼容IE8的话ParentNode.children，否则querySelectorAll最省力）"
   ]
  },
  {
   "cell_type": "markdown",
   "metadata": {},
   "source": [
    "ParentNode.children兼容IE9，返回的是HTMLCollection，与之相比，querySelectorAll兼容IE8，返回NodeList。\n",
    "Node接口下的childNodes，firstNode，lastNode没有兼容问题，但需要过滤text和注释。"
   ]
  },
  {
   "cell_type": "markdown",
   "metadata": {},
   "source": [
    "#### 找兄弟"
   ]
  },
  {
   "cell_type": "markdown",
   "metadata": {},
   "source": [
    " 找兄（不需要兼容IE8的话用ElementTraversal.previousElementSibling，否则用Node.previousSibling）。\n",
    " 找弟（不需要兼容IE8的话用ElementTraversal.nextElementSibling，否则用Node.nextSibling），"
   ]
  },
  {
   "cell_type": "markdown",
   "metadata": {},
   "source": [
    "#### 找祖先（在Node.parentElement的基础上遍历）"
   ]
  },
  {
   "cell_type": "markdown",
   "metadata": {
    "ExecuteTime": {
     "end_time": "2018-12-12T14:02:07.276207Z",
     "start_time": "2018-12-12T14:02:07.271220Z"
    }
   },
   "source": [
    "#### 找子孙（一句querySelectorAll最简单）"
   ]
  },
  {
   "cell_type": "markdown",
   "metadata": {
    "ExecuteTime": {
     "end_time": "2018-12-12T14:04:19.335211Z",
     "start_time": "2018-12-12T14:04:19.331224Z"
    }
   },
   "source": [
    "#### exclude（不需要兼容IE8的话用querySelector(\"any:not(any)\")，否则先querySelector(\"any\")在遍历）"
   ]
  },
  {
   "cell_type": "markdown",
   "metadata": {
    "ExecuteTime": {
     "end_time": "2018-12-12T14:20:24.202794Z",
     "start_time": "2018-12-12T14:20:24.198805Z"
    }
   },
   "source": [
    "# Chapter 5"
   ]
  },
  {
   "cell_type": "markdown",
   "metadata": {},
   "source": [
    "一个element对象有3个东西：name，attribute，content，后两者optional。如<form>是一个HTMLFormElement对象，这个HTMLFormElement对象有一个TagName属性(property)，TagName值是form，还有property如method，action。所以name，attribute都是property。\n",
    "我们自定义在<form>上的data-开头的attribute，对应HTMLFormElement对象上的dataset。\n",
    "attribute和property不一定一一对应，如<input>不定义typeAttribute，HTMLInputElement对象上也会有typeProperty值为text。\n",
    "☆☆☆☆☆原生directive，如<input>的type，如通用的hidden就是directive。<checkbox><radio>的checked是two-way binding的directive。\n",
    "hidden，dataset兼容IE11。"
   ]
  },
  {
   "cell_type": "markdown",
   "metadata": {
    "ExecuteTime": {
     "end_time": "2018-12-13T04:13:10.559169Z",
     "start_time": "2018-12-13T04:13:10.549135Z"
    }
   },
   "source": [
    "Berners-Lee第一次拟定HTML规范开始，attribute一直两个类型：布尔型和变量型。\n",
    "attributeValue可以不带“”，只要attributeValue不含空格,<>或=。attributValue不能包含HTML实体。"
   ]
  },
  {
   "cell_type": "markdown",
   "metadata": {},
   "source": [
    "expando property指的是没有对应attribute的property。\n",
    "有对应attribute的property叫standard property，互相对应的attribute和property两者拥有相同的key和value并永远同步。"
   ]
  },
  {
   "cell_type": "markdown",
   "metadata": {},
   "source": [
    "#### querySelecorAll高级"
   ]
  },
  {
   "cell_type": "markdown",
   "metadata": {},
   "source": [
    "querySelectorAll(\"any[class~='any']\")是CSS2.1的规范。"
   ]
  },
  {
   "cell_type": "markdown",
   "metadata": {},
   "source": [
    "querySelectorAll(\"any[href^='any']\")是CSS3的规范。\n",
    "querySelectorAll(\"any[href*='any']\")是CSS3的规范。\n",
    "querySelectorAll(\"any[href$='any']\")是CSS3的规范。\n",
    "所以不兼容IE8。"
   ]
  },
  {
   "cell_type": "markdown",
   "metadata": {},
   "source": [
    "#### Reading Classes"
   ]
  },
  {
   "cell_type": "markdown",
   "metadata": {},
   "source": [
    "DOM4在Element接口下新增了classList属性，classList属性带了4个方法，兼容IE10。"
   ]
  },
  {
   "cell_type": "markdown",
   "metadata": {},
   "source": [
    "classList.contains，相当于：\n",
    "function hasClass(el,className):\n",
    "    return new RegExp('( ^ | \\\\s )' + className + ‘( $ | \\\\s )’).test(el.className);"
   ]
  },
  {
   "cell_type": "markdown",
   "metadata": {},
   "source": [
    "#### Adding and Removing Classes"
   ]
  },
  {
   "cell_type": "markdown",
   "metadata": {},
   "source": [
    "classList.add，相当于：\n",
    "el.className += \" any\""
   ]
  },
  {
   "cell_type": "markdown",
   "metadata": {},
   "source": [
    "classList.remove，相当于：\n",
    "function removeClass(el,className):\n",
    "    el.className = el.className.replace(new RegExp(\"(^|\\\\s)\"+className+\"($|\\\\s)\"),' ');"
   ]
  },
  {
   "cell_type": "markdown",
   "metadata": {},
   "source": [
    "#### Toggling Classes"
   ]
  },
  {
   "cell_type": "markdown",
   "metadata": {},
   "source": [
    "classList.toggle,相当于：\n",
    "function toggleClass(el,className):\n",
    "    const pattern = new RegExp(\"^|\\\\s\"+className+\"$|\\\\s\")\n",
    "    if(pattern.test(el.className)){\n",
    "        el.className = el.className.replace(pattern,\" \")\n",
    "    }else{\n",
    "        el.className += \" \" + className\n",
    "    }"
   ]
  },
  {
   "cell_type": "markdown",
   "metadata": {},
   "source": [
    "Element接口下的hasAttribute，getAttribute，setAttribute，removeAttribute随便用。"
   ]
  },
  {
   "cell_type": "markdown",
   "metadata": {},
   "source": [
    "# Chapter 6 Attribute"
   ]
  },
  {
   "cell_type": "markdown",
   "metadata": {},
   "source": [
    "☆☆☆☆☆Attribute，property都是为逻辑服务的。HTML是property，HTTP是逻辑。"
   ]
  },
  {
   "cell_type": "markdown",
   "metadata": {},
   "source": [
    "IE8及以上不存在内存泄漏问题。"
   ]
  },
  {
   "cell_type": "markdown",
   "metadata": {},
   "source": [
    "getAttribute和setAttribute也适用于自定义的attribute"
   ]
  },
  {
   "cell_type": "markdown",
   "metadata": {},
   "source": [
    "custom Attribute可以存Array通过JSON的方式"
   ]
  },
  {
   "cell_type": "markdown",
   "metadata": {},
   "source": [
    "  1    var  cache = [], \n",
    "  2    setData =  function (el, key, data) { \n",
    "  3        var  cacheIdx = el.getAttribute('data-cache-idx'), \n",
    "  4        cacheEntry = cache[cacheIdx] || {}; \n",
    "  5 \n",
    "  6        cacheEntry[key] = data; \n",
    "  7        if  (cacheIdx ==  null ) { \n",
    "  8          \n",
    "  9          el.setAttribute('data-cache-idx', cache.push(cacheEntry) - 1); \n",
    " 10        } \n",
    " 11      }; \n",
    " 12 "
   ]
  },
  {
   "cell_type": "markdown",
   "metadata": {},
   "source": [
    "原生的HTMLElement.dataset的方法，与setAttrbute，getAttribute，removeAttribute相比，各有各的优点。\n",
    "dataset的最大优势是使custom attribute和standarded attribute完全一样拥有property和对应的Attribute完全同步的性质，可以删除Attribute通过delete anyEl.dataset.anyProp的方式，可是除此之外作为custom attribute拥有同步的性质又有什么意义。"
   ]
  },
  {
   "cell_type": "markdown",
   "metadata": {},
   "source": [
    "☆☆☆☆☆兼容IE11的weakMap就是setAttrbute，getAttribute，removeAttribute的原生实现"
   ]
  },
  {
   "cell_type": "markdown",
   "metadata": {},
   "source": [
    "# Chapter 7:Styling"
   ]
  },
  {
   "cell_type": "markdown",
   "metadata": {
    "ExecuteTime": {
     "end_time": "2018-12-13T09:42:14.352915Z",
     "start_time": "2018-12-13T09:42:14.332970Z"
    }
   },
   "source": [
    "#### 增加rule（使用document.styleSheets[anyNum]选中 style 对应的CSSStyleSheet对象，再使用CSSStyleSheet.insertRule方法）"
   ]
  },
  {
   "cell_type": "markdown",
   "metadata": {},
   "source": [
    "styleAttribute在1996年的CSS1规范中就被定义了。使用styleAttribute定义style叫做inline styling，inline-styling是不安全的，违反 Content Security Policy，另外inline-styling无法利用缓存机制。"
   ]
  },
  {
   "cell_type": "markdown",
   "metadata": {},
   "source": [
    "styleProperty在2000年的DOM2规范中被定义在ElementCSSInlineStyle接口下,与styleAttribute对应，同样不推荐，除非必要。"
   ]
  },
  {
   "cell_type": "markdown",
   "metadata": {},
   "source": [
    "#### 查看rule(不兼容IE8)"
   ]
  },
  {
   "cell_type": "markdown",
   "metadata": {},
   "source": [
    "getComputedStyle(document.querySelector(\"any\"),null).backgroudColor"
   ]
  },
  {
   "cell_type": "markdown",
   "metadata": {},
   "source": [
    "#### 隐藏Element（一句 [hidden] { display: none !important; } 完美 )"
   ]
  },
  {
   "cell_type": "markdown",
   "metadata": {},
   "source": [
    "配合Element.setAttribute(“hidden”,\"”)使用更佳；\n",
    "配合Element.removeAttribute(“hidden”)使用更佳；\n",
    "配合Element.hasAttribute(\"hidden\")使用更佳；"
   ]
  },
  {
   "cell_type": "markdown",
   "metadata": {},
   "source": [
    "window.innerHeight数当前窗口内部的CSS格子数。zoom in时格子数会变少，格子会变大，width:100%意味占满所有格子，有100占100，有50占50。HTMLTag的width看viewport的。"
   ]
  },
  {
   "cell_type": "markdown",
   "metadata": {},
   "source": [
    "document.documentElement.clientHeight数当前client区（不含srollBar）内部的CSS格子数，是viewport的大小。\n",
    "document.documentElement.offsetHeight数当前html区内部的CSS格子数，是HTML的height。\n",
    "普通Element的clientHeight，client区就是content+padding，没有兼容性问题。\n",
    "普通Element的offsetheight,是Elment的content+padding+border\n",
    "inline-box是没有client区的。"
   ]
  },
  {
   "cell_type": "markdown",
   "metadata": {},
   "source": [
    "# Chpater 8"
   ]
  },
  {
   "cell_type": "markdown",
   "metadata": {
    "ExecuteTime": {
     "end_time": "2018-12-13T12:04:26.805703Z",
     "start_time": "2018-12-13T12:04:26.800715Z"
    }
   },
   "source": [
    "#### 改变DOM结构"
   ]
  },
  {
   "cell_type": "markdown",
   "metadata": {},
   "source": [
    "利用Node接口下的insertBefore，appendChild，我们甚至可以移动注释。\n",
    "Node接口下还有cloneNode，cloneNode可以clone整个子树或本身单个Node，但clone出的Node没有原来注册的事件。"
   ]
  },
  {
   "cell_type": "markdown",
   "metadata": {},
   "source": [
    "#### 新增DOM内容（Element.insertAdjacentHTML万能）"
   ]
  },
  {
   "cell_type": "markdown",
   "metadata": {},
   "source": [
    "#### 删除DOM内容（用anyElem.parentNode.removeChild(anyElem)）"
   ]
  },
  {
   "cell_type": "markdown",
   "metadata": {},
   "source": [
    "写text，HTMLElement.innerText和Node.textContent的效果完全一样。读text，HTMLElement.innerText输出renderedText，Node.textContent保留缩进，是渲染前的格式。"
   ]
  },
  {
   "cell_type": "markdown",
   "metadata": {},
   "source": [
    "innerText,outerText"
   ]
  },
  {
   "cell_type": "markdown",
   "metadata": {},
   "source": [
    "# Chapter 9 XHR"
   ]
  },
  {
   "cell_type": "markdown",
   "metadata": {},
   "source": [
    "XMLHttpRequest已经15年没有改变也没有对手了，现在Fetch API的出现了"
   ]
  },
  {
   "cell_type": "markdown",
   "metadata": {},
   "source": [
    "HTML是property，HTTP是逻辑。Browser是逻辑的执行者。"
   ]
  },
  {
   "cell_type": "markdown",
   "metadata": {},
   "source": [
    "GET是查，请求网页是查。\n",
    "POST是增或者说是新建一个资源。\n",
    "PUT是改或者说是更新，代替原有的一个资源。PATCH与URI配合是更改资源中的一部分，如果资源过大，使用PATCH方法是可以节省带宽的解决方案。\n",
    "HEAD的响应体应为空，响应头有Content-Length，用来查URI对应资源的字节大小。\n",
    "除了GET，HEAD其余都是unsafe。四个unsafe里面，put，delete是idenpotent。"
   ]
  },
  {
   "cell_type": "markdown",
   "metadata": {},
   "source": [
    "请求有请求头和请求体，响应有响应头，响应体，还多了一个状态码。\n",
    "当请求因为网络的关系没有被发出，或者服务器端给出的响应整个为空，状态码为0."
   ]
  },
  {
   "cell_type": "markdown",
   "metadata": {},
   "source": [
    "当状态码为零或CORS error时，xhr.onerror会触发。"
   ]
  },
  {
   "cell_type": "markdown",
   "metadata": {},
   "source": [
    "xhr默认请求体MIME类型为Content-type:text/plain;"
   ]
  },
  {
   "cell_type": "markdown",
   "metadata": {},
   "source": [
    "PUT和DELETE的URI应唯一指明更新和删除的对象。请求体非空的DELETE应被服务器端拒绝。"
   ]
  },
  {
   "cell_type": "markdown",
   "metadata": {},
   "source": [
    "请求体或响应体里数据格式有四种，application/x-www-form-urlencoded是键值对的形式，parallel的形式。键与值由等号分开，键值对之间由&号分开。non-ASCII的字符被相应编号替换。使用encodeURL()前请先写成等号&号的形式，encodeURL会把non-ASCII替换掉。"
   ]
  },
  {
   "cell_type": "markdown",
   "metadata": {},
   "source": [
    "☆☆☆☆☆对于GET,HEAD,DELETE这类没有请求体的方法来说，需要把必要的参数给附在URI最后，这也要用到encodeURL"
   ]
  },
  {
   "cell_type": "markdown",
   "metadata": {},
   "source": [
    "xhr.responseText可以取出响应体，xhr.response是根据响应头把转换头转换后的结果，兼容IE10"
   ]
  },
  {
   "cell_type": "markdown",
   "metadata": {},
   "source": [
    "multipart/form-data格式的请求，与之前键值对的形式相比，是field的形式。每个field有header和body。往往一个field对应一个是form元素的一个field，所以header里面会比如有form的name。\n",
    "分割每个field的boundary里的uniqueID在请求体的Content-type里也有一份。"
   ]
  },
  {
   "cell_type": "markdown",
   "metadata": {},
   "source": [
    "配合Ajax使用来生成multipart/form-data的FormData只兼容IE10及以上。\n",
    "配合Ajax使用来上传文件所需的Blob接口下的File，只兼容IE10及以上。\n",
    "为了兼容IE8，我们只能使用提交form表单默认动作内的multipart/form-data，虽然这样做会触发页面刷新，但是我们可以通过设置form的target='uploader'指定指定的iframe(name=\"uploader\")刷新，从而避免刷新主页面，然后通过iframe的onload事件实现后续逻辑。"
   ]
  },
  {
   "cell_type": "markdown",
   "metadata": {},
   "source": [
    "File.FileReader也只兼容IE10，用来读取文件如图片。"
   ]
  },
  {
   "cell_type": "markdown",
   "metadata": {},
   "source": [
    "异源策略是浏览器的策略，是指当XMLHttpRequest请求的对端和当初请求index.html的对端不是同一个对端时的询问策略。a标签，img标签，script标签都不在这个策略的涉及范围之内。a标签，img标签，script标签实际都是GET请求。"
   ]
  },
  {
   "cell_type": "markdown",
   "metadata": {},
   "source": [
    "异源策略是前端浏览器询问后端的策略。"
   ]
  },
  {
   "cell_type": "markdown",
   "metadata": {},
   "source": [
    "异源请求只有为了兼容IE7才用JSONP。"
   ]
  },
  {
   "cell_type": "markdown",
   "metadata": {},
   "source": [
    "跨域请求被浏览器分成两类，text/plain和application/x-www-form-urlencoded的GET、POST算一类，这一类先请求后判断，后端在响应头中添加access-control-allow-origin供前端判断。另一类先判断后请求，前端先发用作判断的OPTION请求，后端在响应头中添加access-control-allow-methods或access-control-allow-headers供前端判断后，前端再选择是否真的请求资源。"
   ]
  },
  {
   "cell_type": "markdown",
   "metadata": {},
   "source": [
    "异源请求XMLHttpRequest默认不发送cookie，IE10及以上通过设XMLHttpRequest.withCredentials==true的方式。\n",
    "IE8IE9异源请求要带cookie只有通过XDomainRequest，且这个方式只能发送GET，POST请求且不能修改请求头。"
   ]
  },
  {
   "cell_type": "markdown",
   "metadata": {},
   "source": [
    "# Chapter 10"
   ]
  },
  {
   "cell_type": "markdown",
   "metadata": {},
   "source": []
  },
  {
   "cell_type": "markdown",
   "metadata": {},
   "source": [
    "触发事件===触发多个父节点的函数===事件代理"
   ]
  },
  {
   "cell_type": "markdown",
   "metadata": {},
   "source": [
    "页面click交互三种方式：自定义点击事件，a标签默认点击事件，form默认点击事件。☆☆☆☆☆a标签和form标签的默认的点击事件中都包含reload当前页面。"
   ]
  },
  {
   "cell_type": "markdown",
   "metadata": {},
   "source": [
    "鼠标事件，键盘事件，表单事件，文档事件，图片事件"
   ]
  },
  {
   "cell_type": "markdown",
   "metadata": {},
   "source": [
    "所有event都是DOM event。\n",
    "当某一页面节点被点击，浏览器会trigger一个click事件，该页面节点的父节点会触发自己的事件函数。\n",
    "☆☆☆☆☆DOM事件系统，就是子节点调用父节点函数的机制。\n",
    "父节点就是listener。\n"
   ]
  },
  {
   "cell_type": "markdown",
   "metadata": {},
   "source": [
    "click事件即type为‘click‘的事件对象(Event)。子节点trigger父节点的事件函数的同时，子节点向父节点传递事件对象本身"
   ]
  },
  {
   "cell_type": "markdown",
   "metadata": {},
   "source": [
    "IE8中子节点向父节点传递消息，或者说子节点调用父节点的函数，函数的调用是以子节点函数，父节点函数，祖先节点函数的调用顺序来调用的，这种调用顺序叫做冒泡调用。\n"
   ]
  },
  {
   "cell_type": "markdown",
   "metadata": {},
   "source": [
    "focus/blur类型的调用顺序只能以先祖先节点函数，再父节点函数最后子节点函数的顺序被子节点调用，这种调用我们叫做捕获调用。\n",
    "对于其他类型的事件如果你一定要在调用子节点函数之前，优先调用父节点的函数，请将父节点的这个函数设置为捕获调用，即addEventListener第三个参数为true。"
   ]
  },
  {
   "cell_type": "markdown",
   "metadata": {},
   "source": [
    "create事件对象Event时，事件对象与DOM节点无关，事件被触发后事件对象Event开始与DOM节点有关。"
   ]
  },
  {
   "cell_type": "markdown",
   "metadata": {},
   "source": [
    "使用anyEle.click()以手动触发函数捕获调用以及冒泡调用发生。"
   ]
  },
  {
   "cell_type": "markdown",
   "metadata": {},
   "source": [
    "创建规范内的事件对象是通过document.createEvent()或Event()，后者不兼容IE：\n",
    "\n",
    "  5   if  ( typeof  Event === 'function') { \n",
    "  6    clickEvent =  new  Event('click', {bubbles:  false }); \n",
    "  7  } \n",
    "  8   else  { \n",
    "  9      clickEvent = document.createEvent('Event'); \n",
    " 10      clickEvent.initEvent('click',  false ,  true ); \n",
    " 11  } \n",
    " "
   ]
  },
  {
   "cell_type": "markdown",
   "metadata": {},
   "source": [
    "创建事件对象时，可以创建只会触发捕获调用类型函数的事件。创建事件对象时，创建的cancelable参数为true，则该事件prenventDefault有效。"
   ]
  },
  {
   "cell_type": "markdown",
   "metadata": {},
   "source": [
    "创建规范外的事件是通过document.createEvent()或customEvent()，后者不兼容IE："
   ]
  },
  {
   "cell_type": "markdown",
   "metadata": {},
   "source": [
    "当用户改变浏览器窗口时，触发window上的resize事件"
   ]
  },
  {
   "cell_type": "markdown",
   "metadata": {},
   "source": [
    "anyElement.onclick会覆盖inline的onclick属性，即基于property的onclick覆盖基于attribute的onclick，所以onclick的方式使在一个节点上触发的函数只能是单一一个的。\n",
    "为了解决上述问题，使用EventTarget.addEventListener和removeEventListener，兼容IE9"
   ]
  },
  {
   "cell_type": "markdown",
   "metadata": {},
   "source": [
    "事件代理意味着减少事件函数的个数以提高程序性能，或者说是用一个节点的一个事件函数将多个节点的多个事件函数集中到一处。"
   ]
  },
  {
   "cell_type": "markdown",
   "metadata": {},
   "source": [
    "在按下键盘后会一直反复触发keydown类型事件和keypress类型事件，shift和ctrl除外。\n",
    "键盘事件配合ev.keyCode，没有兼容性问题"
   ]
  },
  {
   "cell_type": "markdown",
   "metadata": {},
   "source": [
    "### Section"
   ]
  },
  {
   "cell_type": "markdown",
   "metadata": {},
   "source": [
    "jQuery的ready即原生的DOMContentloaded。☆☆☆☆☆DOMContentloaded要放在link标签之前。\n",
    "当浏览器在下载CSS文件，浏览器会解析HTML，但解析到script标签不会执行其中的代码，进而阻塞了解析。"
   ]
  },
  {
   "cell_type": "markdown",
   "metadata": {},
   "source": [
    "HTML代码的解析，JS代码的执行，CSS代码的解析是在同一个线程里的===阻塞的===无法同时进行的，并且执行顺序是按节点的位置顺序，所以，减少首屏加载时间只能通过①减少首屏加载前JS代码，CSS代码，②在下载JS代码，下载CSS代码时多执行或解析已经在本地的HTML，JS，CSS代码。\n",
    "其实，下载和执行在一些情况下也是不能同时进行的，①在“下载script标签”位置之后的全部执行标签无法执行，②在“下载link标签”位置之后的script执行标签无法执行"
   ]
  },
  {
   "cell_type": "markdown",
   "metadata": {},
   "source": [
    "☆☆☆☆☆在极慢的网速下，本地HTML+JS，远程JS，远程CSS三者的节点顺序才极为重要，"
   ]
  },
  {
   "cell_type": "markdown",
   "metadata": {},
   "source": [
    "☆☆节点的顺序决定不了下载的顺序，执行条件最简单的节点应在最前面\n",
    "远程CSS的执行条件：自身下载完\n",
    "远程JS的执行条件：自身下载完\n",
    "本地JS的执行条件：DOMContentLoaded完\n",
    "☆☆☆DOMContentLoaded的使用场景是①HTML已经解析完但同时CSS还没下载完的时间段②HTML已经解析完但同时IMG还没下载完的场景。\n",
    "如果将事件函数的建立放在link标签之后的script标签中去实现，会导致HTML被解析完之前CSS就已经下载完了，即第一种使用场景的消失。\n",
    "所以要利用DOMContentLoaded的第一种使用场景，link标签必须是HTML解析的最后一个标签。"
   ]
  },
  {
   "cell_type": "markdown",
   "metadata": {},
   "source": [
    "首屏load在window.DOMContentLoaded和window.load之间\n",
    "window.DOMContentLoaded包含JS下载的时间，不应包含CSS下载的时间\n",
    "当JS async时，window.DOMContentLoaded既不包含JS下载的时间，也不应包含CSS下载的时间"
   ]
  },
  {
   "cell_type": "markdown",
   "metadata": {},
   "source": [
    "link标签要放在head标签里，否则下载link标签会阻塞，在link标签之后的HTML执行标签"
   ]
  },
  {
   "cell_type": "markdown",
   "metadata": {},
   "source": [
    "本地JS一定在html解析完之后执行。\n",
    "远程JS一定在html解析完之前执行。\n",
    "远程CSS不一定。"
   ]
  },
  {
   "cell_type": "markdown",
   "metadata": {},
   "source": [
    "注：“/”时，html解析完了，执行DOMContentLoaded钩子函数(本地JS)。\n",
    "本地JS实际是在远程JS之后执行。\n",
    "节点位置：\n",
    "逻辑一：必然远程CSS在前HTML在后（因为一个在head标签，一个在body标签）\n",
    "逻辑二：必然本地JS在前，远程CSS在后（因为本地JS在前，远程CSS在后最差的结果等价于本地JS在后，远程CSS在前）\n",
    "逻辑三：必然本地JS在HTML之后执行\n",
    "所以：本地JS~远程CSS~HTML"
   ]
  },
  {
   "cell_type": "markdown",
   "metadata": {},
   "source": [
    "本地JS~远程JS~远程CSS~HTML：远程JS~HTML~本地JS~远程CSS：[下载远程JS][下载远程CSS]执行远程JS,执行HTML,/,执行本地JS,执行远程CSS。（假设远程JS下载时间短，假设远程CSS下载时间长，☆☆☆☆下载CSS的时间可以把远程JS，HTML和本地JS执行掉）\n",
    "本地JS~远程CSS~HTML~远程JS：HTML~远程CSS~远程JS~本地JS：[下载远程JS][下载远程CSS]执行HTML,执行远程CSS,执行远程JS,/,执行本地JS。（假设远程CSS下载时间短，假设远程JS下载时间长，☆☆☆☆下载JS的时间把HTML和远程CSS执行掉）"
   ]
  },
  {
   "cell_type": "markdown",
   "metadata": {},
   "source": [
    "☆☆☆☆☆\n",
    "link~HTML~script(script放尾常见)：\n",
    "如果script文件大于link文件，下载script文件，(下载link文件，执行HTML，执行link)，执行script √\n",
    "如果script文件小于link文件，下载link文件，(下载script文件，执行HTML)，执行link，执行script\n",
    "script~link~HTML(script放首少见)：\n",
    "如果script文件小于link文件，下载link文件，(下载script文件，执行script，执行HTML)，执行link √\n",
    "如果script文件大于link文件，下载script文件，(下载link文件)，执行script，执行link，执行HTML"
   ]
  },
  {
   "cell_type": "markdown",
   "metadata": {},
   "source": [
    "如果script文件下载好了但link文件还没下载好：\n",
    "script~link~HTML(script放link前面)，下载link文件(下载script文件，执行script，执行HTML)，[]执行link √\n",
    "link~HTML~script(常见)，              ，下载link文件(下载script文件，执行HTML)，[]执行link，执行script\n",
    "如果link文件下载好了但script文件还没下载好：\n",
    "link~HTML~script(常见)，              ，下载script(下载link文件，执行HTML，执行link)，[]执行script √\n",
    "script~link~HTML，                        ，下载script(下载link文件)，[]执行script，执行link，执行HTML"
   ]
  },
  {
   "cell_type": "markdown",
   "metadata": {},
   "source": [
    "要加载首屏，link~HTML~script三者都必须完成。"
   ]
  },
  {
   "cell_type": "markdown",
   "metadata": {},
   "source": [
    "也就是说第一种情况，用link标签兜，link标签后只有HTML。\n",
    "☆☆☆☆☆第二种情况，用html最后一个标签script标签兜，本地JS,link标签,HTML都在script标签前面。"
   ]
  },
  {
   "cell_type": "markdown",
   "metadata": {},
   "source": [
    "如果有多个远程CSS或远程JS，小标签要放在大标签前面。"
   ]
  },
  {
   "cell_type": "markdown",
   "metadata": {},
   "source": [
    "### Section 事件系统兼容IE8"
   ]
  },
  {
   "cell_type": "markdown",
   "metadata": {},
   "source": [
    "除了window，img标签，a标签，script标签，link标签都有load类型事件。"
   ]
  },
  {
   "cell_type": "markdown",
   "metadata": {},
   "source": [
    "event.returnValue = msg没有兼容性问题，但fireFox和Chrome需要点一下页面才有效"
   ]
  },
  {
   "cell_type": "markdown",
   "metadata": {},
   "source": [
    "为了兼容IE8，请使用attachEvent(\"on...\",function(){})和detachEvent(\"on...\",function(){}):\n",
    " function  registerHandler(target, type, callback) { \n",
    "  2     var  listenerMethod = target.addEventListener \n",
    "  3          || target.attachEvent, \n",
    "  4 \n",
    "  5        eventName = target.addEventListener \n",
    "  6          ? type \n",
    "  7          : 'on' + type; \n",
    "  8 \n",
    "  9    listenerMethod(eventName, callback); \n",
    " 10  } \n",
    " 11 "
   ]
  },
  {
   "cell_type": "markdown",
   "metadata": {},
   "source": [
    "为了兼容IE8，如果要监听checkbox，radio，请使用click类型事件，不要使用change类型事件。\n",
    "因为chang类型事件，在IE8中是非冒泡类型事件。因为checkbox，radio根本不会触发change类型事件。\n",
    "回车键，空格键在不同情况下会触发click。"
   ]
  },
  {
   "cell_type": "markdown",
   "metadata": {},
   "source": [
    "为了兼容IE8：\n",
    " 2     var  target = event.target || event.srcElement \n",
    " 3 "
   ]
  },
  {
   "cell_type": "markdown",
   "metadata": {},
   "source": [
    "为了兼容IE8：\n",
    "\n",
    " 2     if  (event.stopPropgation) { \n",
    " 3        event.stopPropagation(); \n",
    " 4    } \n",
    " 5     else  { \n",
    " 6        event.cancelBubble =  true ; \n",
    " 7    } \n",
    " 8  } \n",
    "  "
   ]
  },
  {
   "cell_type": "markdown",
   "metadata": {},
   "source": [
    "# Chapter 12"
   ]
  },
  {
   "cell_type": "markdown",
   "metadata": {},
   "source": [
    "为了兼容IE8，请使用  var trimmed = (' some name ').replace(/^\\s+|\\s+$/g, ''); "
   ]
  },
  {
   "cell_type": "markdown",
   "metadata": {},
   "source": [
    "数字字符串布尔，null，undefined都算原始数据类型( primitive data type)，immutable。\n",
    "Object是惟一的非原始数据类型，Array和Function属于Object\n"
   ]
  },
  {
   "cell_type": "markdown",
   "metadata": {},
   "source": [
    "typeof是用来判断原始数据类型的方法。\n",
    "但typeof对null和Number比较特殊。\n",
    "要判断null，请直接anyVariable === null。\n",
    "另外typeof NaN === “Number”"
   ]
  },
  {
   "cell_type": "markdown",
   "metadata": {},
   "source": [
    "用typeof判断数字还不够精确，没能剔除NaN和Infiinity，所以请使用\n",
    "function  isNumeric(maybeNumber) { \n",
    "  2     return  !isNaN(parseFloat(maybeNumber)) \n",
    "  3              && isFinite(maybeNumber); \n",
    "  4  } \n",
    "parseFloat是为了正确判断null"
   ]
  },
  {
   "cell_type": "markdown",
   "metadata": {},
   "source": [
    "判断Array,为了兼容IE8\n",
    " function  isArray(value) { \n",
    "  2     return  Array.isArray \n",
    "  3    ? Array.isArray(value) \n",
    "  4    : Object.prototype.toString.call(value) === '[object Array]'; \n",
    "  5  } "
   ]
  },
  {
   "cell_type": "markdown",
   "metadata": {},
   "source": [
    "Array是Object多了length和一些特定的方法。"
   ]
  },
  {
   "cell_type": "markdown",
   "metadata": {},
   "source": [
    "用typeof判断Object也不精确，没能剔除null和[]，所以请使用\n",
    "  function  isObject(value) { \n",
    "  2     return  value !==  null  && \n",
    "  3      Object.prototype.toString.call(value) === '[object Object]'; \n",
    "  4  } \n",
    "  "
   ]
  },
  {
   "cell_type": "markdown",
   "metadata": {},
   "source": [
    "\n",
    " \n",
    " \n",
    "  1   function  isEmptyObject(value) { \n",
    "  2     for  (property  in  value) { \n",
    "  3       return false; \n",
    " \n",
    "  4    } \n",
    "  5     return true; \n",
    " \n",
    " \n",
    "  "
   ]
  },
  {
   "cell_type": "markdown",
   "metadata": {},
   "source": [
    "判断Function，用typeof就好"
   ]
  },
  {
   "cell_type": "markdown",
   "metadata": {},
   "source": [
    "### Section 关于Object的create，copy，parse"
   ]
  },
  {
   "cell_type": "markdown",
   "metadata": {},
   "source": [
    "遍历Object对象用for( in )和hasOwnProperty就好\n",
    "1   for  ( var  property  in  user) { \n",
    " 2     if  (user.hasOwnProperty(property)) { \n",
    " 3       var  value = user[property]; \n",
    " 4      document.querySelector('FORM [name=\"' + property + '\"]').value = value; \n",
    " 5    } \n",
    " 通过遍历对象可以完成对对象的拷贝和Merge"
   ]
  },
  {
   "cell_type": "markdown",
   "metadata": {},
   "source": [
    "Object.keys()将Object对象的keys放在Array中，兼容IE9。一般Object.keys()和forEach连用"
   ]
  },
  {
   "cell_type": "markdown",
   "metadata": {},
   "source": [
    "### Section 关于Array的create，copy，parse"
   ]
  },
  {
   "cell_type": "markdown",
   "metadata": {},
   "source": [
    "Merge Array用anyArray.concat()。用spread syntax var  users3 = [...users1, ...users2];Merge Array完全不兼容IE "
   ]
  },
  {
   "cell_type": "markdown",
   "metadata": {},
   "source": [
    "C-loop没有兼容性问题，forEach兼容IE9"
   ]
  },
  {
   "cell_type": "markdown",
   "metadata": {},
   "source": [
    "NodeList.forEach是完全不兼容IE的。"
   ]
  },
  {
   "cell_type": "markdown",
   "metadata": {},
   "source": [
    "indexOf兼容IE9，为了兼容IE8：\n",
    "  function  inArray(value, array) { \n",
    "  2     var  foundIndex = -1; \n",
    "  3     for  ( var  index = 0; index < array.length; index++) { \n",
    "  4       if  (array[index] === value) { \n",
    "  5        foundIndex = index; \n",
    "  6         break; \n",
    " \n",
    "  7      } \n",
    "  8    } \n",
    "  9     return  foundIndex; \n",
    " "
   ]
  },
  {
   "cell_type": "markdown",
   "metadata": {},
   "source": [
    "map，some，every，filter也兼容IE9，但find，findIndex，includes完全不兼容IE"
   ]
  },
  {
   "cell_type": "markdown",
   "metadata": {},
   "source": [
    "用[].slice.call()把伪Array对象转成Array对象。用Array.from()把伪Array对象转成Array对象，完全不兼容IE"
   ]
  },
  {
   "cell_type": "markdown",
   "metadata": {},
   "source": [
    "### Section 函数"
   ]
  },
  {
   "cell_type": "markdown",
   "metadata": {},
   "source": [
    "‘use strict’兼容IE10"
   ]
  },
  {
   "cell_type": "markdown",
   "metadata": {},
   "source": [
    "anyFunction.bind()兼容IE9，一般与addEventListener连用：\n",
    "\n",
    " document.getElementById('my-person').addEventListener( \n",
    "  9    'click', \n",
    " 10    person.handleClick.bind(person, 'Kat') \n",
    " 原来的event参数作为第二个参数被传入"
   ]
  },
  {
   "cell_type": "markdown",
   "metadata": {},
   "source": [
    "\n",
    " \n",
    " \n",
    "  1   var  person = { \n",
    "  2    name: 'Ray', \n",
    "  3    handleClick:  function (user) { \n",
    "  4      console.log( this .name + ' was clicked by ' + user); \n",
    "  5    } \n",
    "  6  }; \n",
    "  7 \n",
    "  8   function  logFunctionCall(targetFunction) { \n",
    "  9     // We need to pass only the \"original\" arguments, which means \n",
    " \n",
    " 10     // we have to slice off the first one passed to this function, \n",
    " \n",
    " 11     // and remember `arguments` is a pseudo-array! \n",
    " \n",
    " 12     var  originalArguments = [].slice.call(arguments, 1); \n",
    " 13 \n",
    " 14    console.log('Calling ' + targetFunction.toString() + \n",
    " 15      ' with ' + originalArguments); \n",
    " 16 \n",
    " 17    targetFunction.apply( this , originalArguments); \n",
    " 18  } \n",
    " 19 \n",
    " 20  document.getElementById('my-person').addEventListener( \n",
    " 21    'click', \n",
    " 22    logFunctionCall.bind(person, person.handleClick, 'Kat') \n",
    " 23 "
   ]
  }
 ],
 "metadata": {
  "kernelspec": {
   "display_name": "Python 3",
   "language": "python",
   "name": "python3"
  },
  "language_info": {
   "codemirror_mode": {
    "name": "ipython",
    "version": 3
   },
   "file_extension": ".py",
   "mimetype": "text/x-python",
   "name": "python",
   "nbconvert_exporter": "python",
   "pygments_lexer": "ipython3",
   "version": "3.6.6"
  },
  "toc": {
   "base_numbering": 1,
   "nav_menu": {},
   "number_sections": true,
   "sideBar": true,
   "skip_h1_title": false,
   "title_cell": "Table of Contents",
   "title_sidebar": "Contents",
   "toc_cell": false,
   "toc_position": {},
   "toc_section_display": true,
   "toc_window_display": false
  }
 },
 "nbformat": 4,
 "nbformat_minor": 2
}
