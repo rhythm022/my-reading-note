{
 "cells": [
  {
   "cell_type": "markdown",
   "metadata": {
    "ExecuteTime": {
     "end_time": "2018-12-03T11:51:18.951330Z",
     "start_time": "2018-12-03T11:51:18.936371Z"
    }
   },
   "source": [
    "# Chapter One"
   ]
  },
  {
   "cell_type": "markdown",
   "metadata": {
    "ExecuteTime": {
     "end_time": "2018-12-03T11:01:03.197277Z",
     "start_time": "2018-12-03T11:01:03.068356Z"
    },
    "scrolled": true
   },
   "source": [
    "界面对象需要绑定Data对象、事件对象、Style。\n",
    "Shell页面只有一个。一个Shell可以有多个Region,一个Region可以有多个界面View对象，但一个Region同时只能有一个View对象。"
   ]
  },
  {
   "cell_type": "markdown",
   "metadata": {},
   "source": [
    "View和Shell的关系：\n",
    "单页面应用SPA的simple-page指的是index.html，也叫shell，这个html页面加载且只加载一次。\n",
    "shell里面指定一个界面对象，作为 Region container，包含多个Region。\n",
    "shell页面外的各界面对象是各自独立请求来的。"
   ]
  },
  {
   "cell_type": "markdown",
   "metadata": {},
   "source": [
    "定义路由即定义当需要显示界面View对象时显示哪个界面对象，比如当用户打开网页，当用户点击链接都需要显示界面对象。\n",
    "SPA中的各界面对象是一直存续的，所以才更需要组件化。\n",
    "SPA的优势是省去了重复报头的带宽和带来了舒畅的切换体验。"
   ]
  },
  {
   "cell_type": "markdown",
   "metadata": {},
   "source": [
    "# Chapter Two"
   ]
  },
  {
   "cell_type": "markdown",
   "metadata": {},
   "source": [
    "绑定是界面开发领域的术语，无论是桌面编程还是网络编程。广义上，界面对象需要绑定，绑定数据对象、绑定事件对象、绑定style。"
   ]
  },
  {
   "cell_type": "markdown",
   "metadata": {},
   "source": [
    "狭义上，绑定是界面对象和数据对象建立起永久联系，单向或双向。one-time不是绑定。\n",
    "绑定意味着template可以重用\n",
    "单向绑定用在只读的界面对象上（绑定后，数据对象一改变就执行更新界面对象的操作）。\n",
    "在界面上绑定有两种方式，html attribute和expression两种方式。"
   ]
  },
  {
   "cell_type": "markdown",
   "metadata": {},
   "source": [
    "更改数据对象M前的逻辑叫businessLogic，改变数据对象M后的逻辑叫presentationLogic"
   ]
  },
  {
   "cell_type": "markdown",
   "metadata": {},
   "source": [
    "MVC中，Controller接受界面对象上的事件，执行businessLogic，以翻新数据对象。\n",
    "那个年代当时的情况不需要prensentationLogic，数据对象简单驱动界面对象，就ok。\n",
    "所以整个框架的Controller只需处理单向的从界面对象到数据对象的过程，就ok。"
   ]
  },
  {
   "cell_type": "markdown",
   "metadata": {},
   "source": [
    "MVP，P是增强版的C，框架开始处理Business logic的同时处理Presentation logic。"
   ]
  },
  {
   "cell_type": "markdown",
   "metadata": {},
   "source": [
    "MVVM，大体是MVP，但进一步强调了Presentation logic的重要，Model应视为ViewModel。"
   ]
  },
  {
   "cell_type": "markdown",
   "metadata": {
    "ExecuteTime": {
     "end_time": "2018-12-04T09:45:15.789525Z",
     "start_time": "2018-12-04T09:45:15.785569Z"
    }
   },
   "source": [
    "# Chapter Three"
   ]
  },
  {
   "cell_type": "markdown",
   "metadata": {},
   "source": [
    "一个会话，一个流程，一个View，一个feature，就是一个module，内部由数据submodule，逻辑submodule，界面submodule构成。\n",
    "多个module再构成一个main module，整个application全live在这一个namespace里\n",
    "module化后，implementer在submodule里，abstraction在module里。\n",
    "另一种fashion，module放公共数据和公共逻辑implementer，abstraction放各个submodule里，module供submodule使用。\n",
    "包依赖包，类依赖类，函数依赖子函数。"
   ]
  },
  {
   "cell_type": "markdown",
   "metadata": {},
   "source": [
    "# Chapter Four"
   ]
  },
  {
   "cell_type": "markdown",
   "metadata": {},
   "source": [
    "ko不自带Router"
   ]
  },
  {
   "cell_type": "markdown",
   "metadata": {},
   "source": [
    "fragment identifier 是URL的一部分，以“#”开头的任意字符串，指示当前View对象中的某部分。\n",
    "fragment identifier的变化，视作整个URL的变化，进而浏览器执行history.pushState()，\n",
    "用户使用导航按钮触发window.onpopstate事件。"
   ]
  },
  {
   "cell_type": "markdown",
   "metadata": {},
   "source": [
    "方一：用户点击链接会触发框架定义的事件执行fid的改变，进而触发window.onhashchange事件，在事件中通过window.location对象获取fragment identifier以更换View对象。\n",
    "这个方法的缺点是URL中出现‘#’，大部分framework把这方法作为fall back。"
   ]
  },
  {
   "cell_type": "markdown",
   "metadata": {},
   "source": [
    "方二：用户点击链接会触发框架定义的事件直接执行history.pushState()并通过window.location对象更换View对象。"
   ]
  },
  {
   "cell_type": "markdown",
   "metadata": {},
   "source": [
    "路由即选择更换View对象"
   ]
  },
  {
   "cell_type": "markdown",
   "metadata": {},
   "source": [
    "# Chapter Five"
   ]
  },
  {
   "cell_type": "markdown",
   "metadata": {},
   "source": [
    "先设计base layout，有了一些regions后，可以设计对应的Route和View"
   ]
  },
  {
   "cell_type": "markdown",
   "metadata": {},
   "source": [
    "View对象、Route的变换应视为State的变化"
   ]
  },
  {
   "cell_type": "markdown",
   "metadata": {},
   "source": [
    "View对象的关系parallel或nested。"
   ]
  },
  {
   "cell_type": "markdown",
   "metadata": {},
   "source": [
    "在AngularJS中，是Router根据ng-view directive放置Template"
   ]
  },
  {
   "cell_type": "markdown",
   "metadata": {
    "ExecuteTime": {
     "end_time": "2018-12-05T08:48:22.193551Z",
     "start_time": "2018-12-05T08:48:22.182972Z"
    }
   },
   "source": [
    "# Chapter Six"
   ]
  },
  {
   "cell_type": "markdown",
   "metadata": {},
   "source": [
    "module的API是为了模块(即函数)之间交流的。有些话可以说有些话不能说。"
   ]
  },
  {
   "cell_type": "markdown",
   "metadata": {},
   "source": [
    "弃：\n",
    "发布订阅模式基于经典的观察者模式。观察者模式只有被观察者和监听者这种角色。发布订阅模式中消息由中间人向监听者发布，而不是直接由被观察者自己发布。\n",
    "\n",
    "AngularJS中集成了pub/sub库，如果需要可以使用AmplifyJS、PubSubJS、Radio.js、Arbiter.js \n",
    "\n",
    "使用发布订阅模式，相比直接调用API的优势是，如果对方不在，既不会阻塞，也不会报错。"
   ]
  },
  {
   "cell_type": "markdown",
   "metadata": {},
   "source": [
    "弃：\n",
    "bb，backbonejs的数据M能继承到许多功能，ko，knockout的数据M则没有。\n",
    "在AngularJs中，绑定两端的数据端是数据M，而KnockoutJs中，绑定两端中的数据端是ViewModel对象，ko是真MVVM。\n",
    "\n",
    "双向绑定用在control对象上。two-way的实现在于监控监听Model或ViewModel的property。\n",
    "\n",
    "template enginer是绑定的执行者。bb没有自带的template enginer"
   ]
  },
  {
   "cell_type": "markdown",
   "metadata": {},
   "source": [
    "弃：\n",
    "View里面可以有View，main view和inner view共享路由参数，所以View里面也会有Region。实现这种parallel或Nested View,AngularJS需要用AngularUI，KnockoutJS需要用Durandal\n",
    "\n",
    "Region为包含ng-include或ng-view或ui-view的界面元素\n",
    "\n",
    "如果生成的View在当前View里面，使用child route，生成的View叫child view"
   ]
  }
 ],
 "metadata": {
  "kernelspec": {
   "display_name": "Python 3",
   "language": "python",
   "name": "python3"
  },
  "language_info": {
   "codemirror_mode": {
    "name": "ipython",
    "version": 3
   },
   "file_extension": ".py",
   "mimetype": "text/x-python",
   "name": "python",
   "nbconvert_exporter": "python",
   "pygments_lexer": "ipython3",
   "version": "3.6.6"
  },
  "toc": {
   "base_numbering": 1,
   "nav_menu": {},
   "number_sections": true,
   "sideBar": true,
   "skip_h1_title": false,
   "title_cell": "Table of Contents",
   "title_sidebar": "Contents",
   "toc_cell": false,
   "toc_position": {},
   "toc_section_display": true,
   "toc_window_display": false
  }
 },
 "nbformat": 4,
 "nbformat_minor": 2
}
