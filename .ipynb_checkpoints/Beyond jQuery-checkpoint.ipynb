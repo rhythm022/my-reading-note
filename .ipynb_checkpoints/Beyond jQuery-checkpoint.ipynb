{
 "cells": [
  {
   "cell_type": "markdown",
   "metadata": {},
   "source": [
    "# Chapter 03"
   ]
  },
  {
   "cell_type": "markdown",
   "metadata": {},
   "source": [
    "IE9及以上可以脱离jQuery。IE7只能靠jQuery了。"
   ]
  },
  {
   "cell_type": "markdown",
   "metadata": {},
   "source": [
    "DOM API中：\n",
    "EventTarget类在继承链顶端，定义了addEventListener方法。所以window，document，element对象会有addEventListener方法。\n",
    "Node类继承EventTarget类，定义克隆节点和定位兄弟节点的相关方法。\n",
    "Element类和CharacterData类继承Node类（Element类对应HTML各类标签，CharacterData类对应HTML中的anonymous text和commit）\n",
    "Document类也继承Node类，定义了关于style的方法。Document没有被其他类继承。"
   ]
  },
  {
   "cell_type": "markdown",
   "metadata": {},
   "source": [
    "HTMLAnchorElement， HTMLDivElement， HTMLSpanElement等类继承Element类，继承Element中定义的property如className"
   ]
  },
  {
   "cell_type": "markdown",
   "metadata": {},
   "source": [
    "基本上DOM API定义了document对象，element对象，node对象。\n",
    "window对象则包含了对除DOM API外的一些规范的实现，比File API。\n",
    "DOM API和非DOM API共同构成了Web API。"
   ]
  },
  {
   "cell_type": "markdown",
   "metadata": {},
   "source": [
    "以上所有这些类构成了DOM规范。\n",
    "第一版DOM规范由W3C在1998出版，较新的DOM规范是DOM Level 3 Core，2004成为推荐规范。\n",
    "DOM HTML规范比DOM Core多了一些HTML的规范，定义了element的共有属性如id，className，title。\n",
    "DOM HTML较新的规范是DOM Level2 HTML，2003成为推荐规范。"
   ]
  },
  {
   "cell_type": "markdown",
   "metadata": {},
   "source": [
    "Selector API规范并不在上述规范中，Selector规范目前在Level4。Document类和Element类继承了Selector类。\n",
    "DOM4打算将这些在规范外的规范全部囊括。"
   ]
  },
  {
   "cell_type": "markdown",
   "metadata": {},
   "source": [
    "HTML5规范是2014成为推荐规范的，HTML5是DOM规范之一，定义了新的element(即新的tag)如<picture>,新的attribute如placeholder，required，新的property如dataset，如img的naturalHeight，新的对象如History类，Fetch类。"
   ]
  },
  {
   "cell_type": "markdown",
   "metadata": {},
   "source": [
    "requiredAttribute归属在constraints API下"
   ]
  },
  {
   "cell_type": "markdown",
   "metadata": {},
   "source": [
    "In short, the DOM APIs  provide a way to read, update, traverse, and create document elements.\n",
    "jQuery的强大来源于原生DOM API。"
   ]
  },
  {
   "cell_type": "markdown",
   "metadata": {
    "ExecuteTime": {
     "end_time": "2018-12-12T09:34:01.145776Z",
     "start_time": "2018-12-12T09:34:01.135269Z"
    }
   },
   "source": [
    "# Chapter04"
   ]
  },
  {
   "cell_type": "markdown",
   "metadata": {},
   "source": [
    "exclude，querySelector(\"some:not(any)\")IE9+支持（IE8需先querySelector(\"some\")遍历）\n",
    "querySelectorAll('#link-container, .my-name, OL'); IE8+支持"
   ]
  },
  {
   "cell_type": "markdown",
   "metadata": {
    "ExecuteTime": {
     "end_time": "2018-12-12T14:20:24.202794Z",
     "start_time": "2018-12-12T14:20:24.198805Z"
    }
   },
   "source": [
    "# Chapter05"
   ]
  },
  {
   "cell_type": "markdown",
   "metadata": {},
   "source": [
    "原生directive，如input标签的type，如HTML5.1新的的hidden。\n",
    "hidden，dataset，IE11+支持。"
   ]
  },
  {
   "cell_type": "markdown",
   "metadata": {},
   "source": [
    "querySelectorAll(\"any[class~='any']\")是CSS2.1的规范。\n",
    "querySelectorAll(\"any[href^='any']\")是CSS3的规范。\n",
    "querySelectorAll(\"any[href*='any']\")是CSS3的规范。\n",
    "querySelectorAll(\"any[href$='any']\")是CSS3的规范。\n",
    "以上IE8+支持。\n",
    "CSS3的General siblings (element1~element2) IE8+也支持"
   ]
  },
  {
   "cell_type": "markdown",
   "metadata": {},
   "source": [
    "# Chapter 6 Attribute"
   ]
  },
  {
   "cell_type": "markdown",
   "metadata": {},
   "source": [
    "IE8及以上不存在内存泄漏问题。\n",
    "\n",
    "dataset，attribute都只能存string。\n",
    "dataset使custom attribute在js中可以当做property处理，比如删除attribute可以通过delete dataset.anyprop"
   ]
  },
  {
   "cell_type": "markdown",
   "metadata": {},
   "source": [
    "# Chapter 7:Styling"
   ]
  },
  {
   "cell_type": "markdown",
   "metadata": {},
   "source": [
    "隐藏Element：\n",
    "[hidden] { display: none !important; }\n",
    "配合Element.setAttribute(“hidden”,\"”)，Element.removeAttribute(“hidden”)，Element.hasAttribute(\"hidden\")"
   ]
  },
  {
   "cell_type": "markdown",
   "metadata": {},
   "source": [
    "window.innerHeight数当前窗口内部的CSS格子数。zoom in时格子数会变少，格子会变大，width:100%意味占满所有格子，有100占100，有50占50。\n",
    "HTMLTag的width看viewport的。\n",
    "\n",
    "document.documentElement.clientHeight数当前client区（不含srollBar）内部的CSS格子数，是viewport的大小。\n",
    "document.documentElement.offsetHeight数当前html区内部的CSS格子数，是HTML的height。"
   ]
  },
  {
   "cell_type": "markdown",
   "metadata": {},
   "source": [
    "# Chpater 8"
   ]
  },
  {
   "cell_type": "markdown",
   "metadata": {},
   "source": [
    "# Chapter 9 XHR"
   ]
  },
  {
   "cell_type": "markdown",
   "metadata": {},
   "source": [
    "XMLHttpRequest已经15年没有改变也没有对手了，现在Fetch API的出现了"
   ]
  },
  {
   "cell_type": "markdown",
   "metadata": {},
   "source": [
    "request分同源的和跨域的，CORS request == 跨域资源共享请求。\n",
    "response比request多出一个status-code。\n",
    "当request没有出本机或者server给出的response整个为“”时status-code == 0。\n",
    "status-code ==0或CORS error时，触发XHR.onerror。\n",
    "status-code 4开头5开头，触发XHR.onload。"
   ]
  },
  {
   "cell_type": "markdown",
   "metadata": {},
   "source": [
    "post/put/delete/get/patch/head，增改删查。\n",
    "POST是提交一个还不存在的网络资源。\n",
    "PUT是更改一个资源。\n",
    "DELETE是删除一个资源。\n",
    "GET是查一条或多条资源。\n",
    "PATCH和HEAD都是针对资源过大，节省带宽而小改PUT,GET的方法。HEAD的response-body应为空，response-header应有Content-Length，值为URI对应资源的字节数。\n",
    "\n",
    "PUT,DELETE的URI应针对单一的资源对象。\n",
    "GET可以针对多个资源对象比如一个库。\n",
    "POST没有对象可以针对比如一个库。"
   ]
  },
  {
   "cell_type": "markdown",
   "metadata": {},
   "source": [
    "GET,HEAD,DELETErequest-body中应为“”，不为“”时服务器应拒绝这些请求。\n",
    "GET,HEAD,DELETE把参数附在URI最后，POST,PUT,PATCH把参数附在URI最后或放在request-body里。\n",
    "附在URI最后的参数，需urlencoded格式，所以也需要encodeURL()。"
   ]
  },
  {
   "cell_type": "markdown",
   "metadata": {},
   "source": [
    "XHR默认request-body的类型为Content-type:text/plain;\n",
    "\n",
    "XHR.responseText可以取出响应体。\n",
    "XHR.response则是根据response-header的Content-type把text转换后的对象（IE10+支持）"
   ]
  },
  {
   "cell_type": "markdown",
   "metadata": {},
   "source": [
    "Content-type:application/x-www-form-urlencoded;：\n",
    "urlencoded是键值对的形式。\n",
    "键与值由等号分开，键值对之间由&号分开，整个是parallel的形式。\n",
    "encodeURL只负责把non-ASCII用相应编号替换。"
   ]
  },
  {
   "cell_type": "markdown",
   "metadata": {},
   "source": [
    "Content-type:multipart/form-data;：\n",
    "与之前键值对的形式相比，是field的形式，每个field有header和body。\n",
    "一个field对应form标签的一个field，header里会有比如form的name。\n",
    "浏览器在发送请求前，会在分割每个field的boundary里和请求头的Content-type附上一致的uniqueID。\n",
    "FormData()类，JSON.stringify()，encodeURL之一的FormData()类只IE10+支持。FileReader()类,Blob()类IE10+支持。"
   ]
  },
  {
   "cell_type": "markdown",
   "metadata": {},
   "source": [
    "jQuery的ajax也无法在IE89上异步上传文件。IE89只能通过提交form表单的方式同步上传文件。可以说提交form表单的默认动作自带encodeURL和files。\n",
    "\n",
    "jQuery在跨域上也毫无作为。"
   ]
  },
  {
   "cell_type": "markdown",
   "metadata": {},
   "source": [
    "异源策略是前端浏览器询问后端的策略。\n",
    "异源策略是指由浏览器的js发出的网络请求的对端和当初请求index.html的对端不是同一个时，浏览器的询问策略。\n",
    "异源的向第三方的网络请求，常常需要。\n",
    "control的a，图的img，script发出的请求不是js发出的，浏览器不会询问。control的a，图的img，script实际都是request-body为空的GET请求。"
   ]
  },
  {
   "cell_type": "markdown",
   "metadata": {},
   "source": [
    "跨域请求被浏览器分成两类：\n",
    "text和urlencoded请求体格式的GET,POST请求是一类，\n",
    "浏览器在request中附加Origin头，后端通过判断Origin头来决定在response中access-control-allow-origin头的值供浏览器判断。\n",
    "另一类：\n",
    "浏览器发送OPTIONS请求，后端在response中附上access-control-allow-methods，access-control-allow-headers供浏览器判断，浏览器以决定是否发送原请求。"
   ]
  },
  {
   "cell_type": "markdown",
   "metadata": {},
   "source": [
    "fetchByJSONP利用的是script的GET请求，所以只能发请求体为空的GET请求\n",
    "\n",
    "Fetch()同源,异源都默认不发送credentials，XHR异源请求默认不发送credentials。\n",
    "IE8IE9异源请求要带cookie只有通过XDomainRequest，且这个方式只能发送GET，POST请求且不能修改请求头。"
   ]
  },
  {
   "cell_type": "markdown",
   "metadata": {},
   "source": [
    "# Chapter 10"
   ]
  },
  {
   "cell_type": "markdown",
   "metadata": {},
   "source": [
    "### Control"
   ]
  },
  {
   "cell_type": "markdown",
   "metadata": {},
   "source": [
    "事件代理的典型状态：\n",
    "window上注册多个listener，一种事件对应一个listener。\n",
    "一个listener里面根据event.target分出code-path。\n",
    "这样事件代理，①将整个app的listener集中在一处便于代码维护。②利用addEventListener第三参数为true+stopPropgation()的组合提高程序性能。"
   ]
  },
  {
   "cell_type": "markdown",
   "metadata": {},
   "source": [
    "鼠标事件，键盘事件，表单事件，文档事件，图片事件\n",
    "事件分两类：control(点击+输入)和lifecycle\n",
    "点击+输入的两大代表：a标签，input标签。\n",
    "a标签和form标签的默认的点击事件中都包含reload当前页面。"
   ]
  },
  {
   "cell_type": "markdown",
   "metadata": {},
   "source": [
    "你是谁的listener：\n",
    "listener的调用是要排队的。\n",
    "以事件节点listener，父节点listener，window节点listener的排队顺序，叫冒泡。IE8只有这种排队顺序。\n",
    "以window节点listener，再父节点listener最后事件节点listener的排队顺序，排队顺序叫捕获(慢慢接近)。\n",
    "‘focus’/’blur’的listener只能排捕获的队(一直true)，其他的listener可以通过addEventListener第三参数trueOrFalse来选择排捕获还是冒泡。\n",
    "捕获一直快于冒泡。"
   ]
  },
  {
   "cell_type": "markdown",
   "metadata": {},
   "source": [
    "当用户改变浏览器窗口时，触发window.resize事件"
   ]
  },
  {
   "cell_type": "markdown",
   "metadata": {},
   "source": [
    "removeEventListener()一次只能删除一个节点的一种'事件'的一个listener"
   ]
  },
  {
   "cell_type": "markdown",
   "metadata": {},
   "source": [
    "在按下键盘(shift和ctrl除外)后会一直反复触发'keydown'的listener和‘keypress‘的listener。\n",
    "释放键盘会有'keyup'的listener触发一次。"
   ]
  },
  {
   "cell_type": "markdown",
   "metadata": {},
   "source": [
    "### Lifecycle"
   ]
  },
  {
   "cell_type": "markdown",
   "metadata": {},
   "source": [
    "下载和走之间有影响。\n",
    "DOMContentLoadedListener在浏览器走到html文件最后节点时执行。\n",
    "停下来不走 == 阻塞"
   ]
  },
  {
   "cell_type": "markdown",
   "metadata": {},
   "source": [
    "jQuery的ready即原生的DOMContentloaded。"
   ]
  },
  {
   "cell_type": "markdown",
   "metadata": {},
   "source": [
    "加载首屏，即CSS~HTML(JS)三者完成之时。"
   ]
  },
  {
   "cell_type": "markdown",
   "metadata": {},
   "source": [
    "HTML的解析，JS的执行，CSS的解析是在同一个线程里的===无法同时走。\n",
    "所以，减少首屏加载时间只能通过：\n",
    "①减少(首屏加载前)JS,CSS,HTML的字节数\n",
    "②在下载JS,下载CSS时多走已经在本地的HTML,JS,CSS。\n",
    "其实，下载和走在一些情况下是不能同时进行的：\n",
    "①下载远程CSS的时间，只有后置的HTML和前置的JS可以利用上。\n",
    "②下载远程JS的时间，只有前置的CSS,HTML,JS可以利用上。\n"
   ]
  },
  {
   "cell_type": "markdown",
   "metadata": {},
   "source": [
    "☆☆☆☆☆在极慢的网速下，本地HTML+JS，远程JS，远程CSS三者的节点顺序才极为重要。"
   ]
  },
  {
   "cell_type": "markdown",
   "metadata": {},
   "source": [
    "节点的顺序决定不了下载的顺序。\n",
    "首屏前要么先走CSS，要么先走全部JS。\n",
    "\n",
    "DOMContentLoaded的使用场景：\n",
    "①☆☆☆html走完但CSS还没下载完所创造出的时间段。\n",
    "②html走完但IMG还没下载完的场景。"
   ]
  },
  {
   "cell_type": "markdown",
   "metadata": {},
   "source": [
    "window.DOMContentLoaded，首屏Load，然后window.load\n",
    "window.DOMContentLoaded包含JS下载的时间，不应包含CSS下载的时间。\n",
    "当JS async时，window.DOMContentLoaded既不包含JS下载的时间，也不应包含CSS下载的时间\n",
    "\n",
    "本地JS一定在html走完后执行。\n",
    "远程JS一定在html走完前执行。\n",
    "远程CSS不一定。"
   ]
  },
  {
   "cell_type": "markdown",
   "metadata": {},
   "source": [
    "CSS标签要放在head标签里，否则下载CSS会阻塞HTML解析"
   ]
  },
  {
   "cell_type": "markdown",
   "metadata": {},
   "source": [
    "注：“/”时，html解析完了，执行DOMContentLoadedListener(本地JS)。\n",
    "本地JS实际是在远程JS之后执行。\n",
    "节点位置：\n",
    "逻辑一：必然远程CSS在前HTML在后（因为一个在head标签，一个在body标签）\n",
    "逻辑二：必然本地JS在前，远程CSS在后（因为本地JS在前，远程CSS在后最差的结果等价于本地JS在后，远程CSS在前）\n",
    "逻辑三：必然本地JS在HTML之后执行\n",
    "所以：本地JS~远程CSS~HTML"
   ]
  },
  {
   "cell_type": "markdown",
   "metadata": {},
   "source": [
    "本地JS~远程JS~远程CSS~HTML：远程JS~HTML~本地JS~远程CSS：[下载远程JS][下载远程CSS]执行远程JS,执行HTML,/,执行本地JS,执行远程CSS。（假设远程JS下载时间短，假设远程CSS下载时间长，☆☆☆☆下载CSS的时间可以把远程JS，HTML和本地JS执行掉）\n",
    "本地JS~远程CSS~HTML~远程JS：HTML~远程CSS~远程JS~本地JS：[下载远程JS][下载远程CSS]执行HTML,执行远程CSS,执行远程JS,/,执行本地JS。（假设远程CSS下载时间短，假设远程JS下载时间长，☆☆☆☆下载JS的时间把HTML和远程CSS执行掉）"
   ]
  },
  {
   "cell_type": "markdown",
   "metadata": {},
   "source": [
    "☆☆☆☆☆\n",
    "CSS~HTML~JS(常见放法)：使用defer或DOMContentLoadedListener完全无意义\n",
    "如果JS大，   下载JS文件(下载CSS文件，执行HTML，执行CSS)，执行JS √\n",
    "如果CSS大，下载CSS文件(下载JS文件，执行HTML)，执行CSS，执行JS\n",
    "JS~CSS~HTML：需要DOMContentLoadedListener\n",
    "如果CSS大，下载CSS文件(下载JS文件，执行JS，执行HTML)，执行CSS √\n",
    "如果JS大，   下载JS文件(下载CSS文件)，执行JS，执行HTML，执行CSS"
   ]
  },
  {
   "cell_type": "markdown",
   "metadata": {},
   "source": [
    "JS defer让JS~CSS~HTML保留自己特性的同时，拥有了CSS~HTML~JS的优点。IE10+支持。"
   ]
  },
  {
   "cell_type": "markdown",
   "metadata": {},
   "source": [
    "用CSS下载的时间兜或用JS下载的时间兜。\n",
    "最远最重最大的放最底。\n",
    "如果有多个远程CSS或远程JS，小标签要放在大标签前面。"
   ]
  },
  {
   "cell_type": "markdown",
   "metadata": {},
   "source": [
    "### Section 事件系统兼容IE8"
   ]
  },
  {
   "cell_type": "markdown",
   "metadata": {},
   "source": [
    "除了window，img标签，a标签，script标签，link标签都有load类型事件。"
   ]
  },
  {
   "cell_type": "markdown",
   "metadata": {},
   "source": [
    "event.returnValue = msg没有兼容性问题，但fireFox和Chrome需要点一下页面才有效"
   ]
  },
  {
   "cell_type": "markdown",
   "metadata": {},
   "source": [
    "为了兼容IE8，请使用attachEvent(\"on...\",function(){})和detachEvent(\"on...\",function(){}):\n",
    " function  registerHandler(target, type, callback) { \n",
    "  2     var  listenerMethod = target.addEventListener \n",
    "  3          || target.attachEvent, \n",
    "  4 \n",
    "  5        eventName = target.addEventListener \n",
    "  6          ? type \n",
    "  7          : 'on' + type; \n",
    "  8 \n",
    "  9    listenerMethod(eventName, callback); \n",
    " 10  } \n",
    " 11 "
   ]
  },
  {
   "cell_type": "markdown",
   "metadata": {},
   "source": [
    "为了兼容IE8，如果要监听checkbox，radio，请使用click类型事件，不要使用change类型事件。\n",
    "因为chang类型事件，在IE8中是非冒泡类型事件。因为checkbox，radio根本不会触发change类型事件。\n",
    "回车键，空格键在不同情况下会触发click。"
   ]
  },
  {
   "cell_type": "markdown",
   "metadata": {},
   "source": [
    "为了兼容IE8：\n",
    " 2     var  target = event.target || event.srcElement \n",
    " 3 "
   ]
  },
  {
   "cell_type": "markdown",
   "metadata": {},
   "source": [
    "为了兼容IE8：\n",
    "\n",
    " 2     if  (event.stopPropgation) { \n",
    " 3        event.stopPropagation(); \n",
    " 4    } \n",
    " 5     else  { \n",
    " 6        event.cancelBubble =  true ; \n",
    " 7    } \n",
    " 8  } \n",
    "  "
   ]
  },
  {
   "cell_type": "markdown",
   "metadata": {},
   "source": [
    "# Chapter 12"
   ]
  },
  {
   "cell_type": "markdown",
   "metadata": {},
   "source": [
    "为了兼容IE8，请使用  var trimmed = (' some name ').replace(/^\\s+|\\s+$/g, ''); "
   ]
  },
  {
   "cell_type": "markdown",
   "metadata": {},
   "source": [
    "数字字符串布尔，null，undefined都算原始数据类型( primitive data type)，immutable。\n",
    "Object是惟一的非原始数据类型，Array和Function属于Object\n"
   ]
  },
  {
   "cell_type": "markdown",
   "metadata": {},
   "source": [
    "typeof是用来判断原始数据类型的方法。\n",
    "但typeof对null和Number比较特殊。\n",
    "要判断null，请直接anyVariable === null。\n",
    "另外typeof NaN === “Number”"
   ]
  },
  {
   "cell_type": "markdown",
   "metadata": {},
   "source": [
    "用typeof判断数字还不够精确，没能剔除NaN和Infiinity，所以请使用\n",
    "function  isNumeric(maybeNumber) { \n",
    "  2     return  !isNaN(parseFloat(maybeNumber)) \n",
    "  3              && isFinite(maybeNumber); \n",
    "  4  } \n",
    "parseFloat是为了正确判断null"
   ]
  },
  {
   "cell_type": "markdown",
   "metadata": {},
   "source": [
    "判断Array,为了兼容IE8\n",
    " function  isArray(value) { \n",
    "  2     return  Array.isArray \n",
    "  3    ? Array.isArray(value) \n",
    "  4    : Object.prototype.toString.call(value) === '[object Array]'; \n",
    "  5  } "
   ]
  },
  {
   "cell_type": "markdown",
   "metadata": {},
   "source": [
    "Array是Object多了length和一些特定的方法。"
   ]
  },
  {
   "cell_type": "markdown",
   "metadata": {},
   "source": [
    "用typeof判断Object也不精确，没能剔除null和[]，所以请使用\n",
    "  function  isObject(value) { \n",
    "  2     return  value !==  null  && \n",
    "  3      Object.prototype.toString.call(value) === '[object Object]'; \n",
    "  4  } \n",
    "  "
   ]
  },
  {
   "cell_type": "markdown",
   "metadata": {},
   "source": [
    "\n",
    " \n",
    " \n",
    "  1   function  isEmptyObject(value) { \n",
    "  2     for  (property  in  value) { \n",
    "  3       return false; \n",
    " \n",
    "  4    } \n",
    "  5     return true; \n",
    " \n",
    " \n",
    "  "
   ]
  },
  {
   "cell_type": "markdown",
   "metadata": {},
   "source": [
    "判断Function，用typeof就好"
   ]
  },
  {
   "cell_type": "markdown",
   "metadata": {},
   "source": [
    "### Section 关于Object的create，copy，parse"
   ]
  },
  {
   "cell_type": "markdown",
   "metadata": {},
   "source": [
    "遍历Object对象用for( in )和hasOwnProperty就好\n",
    "1   for  ( var  property  in  user) { \n",
    " 2     if  (user.hasOwnProperty(property)) { \n",
    " 3       var  value = user[property]; \n",
    " 4      document.querySelector('FORM [name=\"' + property + '\"]').value = value; \n",
    " 5    } \n",
    " 通过遍历对象可以完成对对象的拷贝和Merge"
   ]
  },
  {
   "cell_type": "markdown",
   "metadata": {},
   "source": [
    "Object.keys()将Object对象的keys放在Array中，兼容IE9。一般Object.keys()和forEach连用"
   ]
  },
  {
   "cell_type": "markdown",
   "metadata": {},
   "source": [
    "### Section 关于Array的create，copy，parse"
   ]
  },
  {
   "cell_type": "markdown",
   "metadata": {},
   "source": [
    "Merge Array用anyArray.concat()。用spread syntax var  users3 = [...users1, ...users2];Merge Array完全不兼容IE "
   ]
  },
  {
   "cell_type": "markdown",
   "metadata": {},
   "source": [
    "C-loop没有兼容性问题，forEach兼容IE9"
   ]
  },
  {
   "cell_type": "markdown",
   "metadata": {},
   "source": [
    "NodeList.forEach是完全不兼容IE的。"
   ]
  },
  {
   "cell_type": "markdown",
   "metadata": {},
   "source": [
    "indexOf兼容IE9，为了兼容IE8：\n",
    "  function  inArray(value, array) { \n",
    "  2     var  foundIndex = -1; \n",
    "  3     for  ( var  index = 0; index < array.length; index++) { \n",
    "  4       if  (array[index] === value) { \n",
    "  5        foundIndex = index; \n",
    "  6         break; \n",
    " \n",
    "  7      } \n",
    "  8    } \n",
    "  9     return  foundIndex; \n",
    " "
   ]
  },
  {
   "cell_type": "markdown",
   "metadata": {},
   "source": [
    "map，some，every，filter也兼容IE9，但find，findIndex，includes完全不兼容IE"
   ]
  },
  {
   "cell_type": "markdown",
   "metadata": {},
   "source": [
    "用[].slice.call()把伪Array对象转成Array对象。用Array.from()把伪Array对象转成Array对象，完全不兼容IE"
   ]
  },
  {
   "cell_type": "markdown",
   "metadata": {},
   "source": [
    " Array = [].slice.call(NodeList); \n",
    " var obj = {}; //对象\n",
    " [].push.call(obj, 300)"
   ]
  },
  {
   "cell_type": "markdown",
   "metadata": {},
   "source": [
    "### Section 函数"
   ]
  },
  {
   "cell_type": "markdown",
   "metadata": {},
   "source": [
    "‘use strict’兼容IE10"
   ]
  },
  {
   "cell_type": "markdown",
   "metadata": {},
   "source": [
    "anyFunction.bind()兼容IE9，一般与addEventListener连用：\n",
    "\n",
    " document.getElementById('my-person').addEventListener( \n",
    "  9    'click', \n",
    " 10    person.handleClick.bind(person, 'Kat') \n",
    " 原来的event参数作为第二个参数被传入"
   ]
  },
  {
   "cell_type": "markdown",
   "metadata": {},
   "source": [
    "\n",
    " \n",
    " \n",
    "  1   var  person = { \n",
    "  2    name: 'Ray', \n",
    "  3    handleClick:  function (user) { \n",
    "  4      console.log( this .name + ' was clicked by ' + user); \n",
    "  5    } \n",
    "  6  }; \n",
    "  7 \n",
    "  8   function  logFunctionCall(targetFunction) { \n",
    "  9     // We need to pass only the \"original\" arguments, which means \n",
    " \n",
    " 10     // we have to slice off the first one passed to this function, \n",
    " \n",
    " 11     // and remember `arguments` is a pseudo-array! \n",
    " \n",
    " 12     var  originalArguments = [].slice.call(arguments, 1); \n",
    " 13 \n",
    " 14    console.log('Calling ' + targetFunction.toString() + \n",
    " 15      ' with ' + originalArguments); \n",
    " 16 \n",
    " 17    targetFunction.apply( this , originalArguments); \n",
    " 18  } \n",
    " 19 \n",
    " 20  document.getElementById('my-person').addEventListener( \n",
    " 21    'click', \n",
    " 22    logFunctionCall.bind(person, person.handleClick, 'Kat') \n",
    " 23 "
   ]
  }
 ],
 "metadata": {
  "kernelspec": {
   "display_name": "Python 3",
   "language": "python",
   "name": "python3"
  },
  "language_info": {
   "codemirror_mode": {
    "name": "ipython",
    "version": 3
   },
   "file_extension": ".py",
   "mimetype": "text/x-python",
   "name": "python",
   "nbconvert_exporter": "python",
   "pygments_lexer": "ipython3",
   "version": "3.6.6"
  },
  "toc": {
   "base_numbering": 1,
   "nav_menu": {},
   "number_sections": true,
   "sideBar": true,
   "skip_h1_title": false,
   "title_cell": "Table of Contents",
   "title_sidebar": "Contents",
   "toc_cell": false,
   "toc_position": {},
   "toc_section_display": true,
   "toc_window_display": false
  }
 },
 "nbformat": 4,
 "nbformat_minor": 2
}
