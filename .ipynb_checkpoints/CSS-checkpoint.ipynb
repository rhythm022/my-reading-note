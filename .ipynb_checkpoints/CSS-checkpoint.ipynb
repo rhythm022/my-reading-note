{
 "cells": [
  {
   "cell_type": "markdown",
   "metadata": {},
   "source": [
    "# Chapter 7"
   ]
  },
  {
   "cell_type": "markdown",
   "metadata": {},
   "source": [
    "脱离文档流的唯二方式：float和position。"
   ]
  },
  {
   "cell_type": "markdown",
   "metadata": {},
   "source": [
    "block overlap的唯二方式：positioned和负Margin。\n",
    "??父子 block的overlap用负Margin"
   ]
  },
  {
   "cell_type": "markdown",
   "metadata": {},
   "source": [
    "## Section：block的width"
   ]
  },
  {
   "cell_type": "markdown",
   "metadata": {},
   "source": [
    "box-sizing:border-box，让width定义为BP+contentWidth。\n",
    "BP不设置即为0。"
   ]
  },
  {
   "cell_type": "markdown",
   "metadata": {},
   "source": [
    "box-sizing:border-box下：\n",
    "block的M+Width == 外block的contentWidth。\n",
    "contentWidth有minimum(各个浏览器的这个值不同)，所以盒子至少有宽。"
   ]
  },
  {
   "cell_type": "markdown",
   "metadata": {},
   "source": [
    "①一般情况margin不设置即为0，contentWidth(或width)不设置即为100%。\n",
    "②ML,width,MR被同时设置时牺牲RM。\n",
    "③ML,MR同时不设置并且width有设置，margin平分。"
   ]
  },
  {
   "cell_type": "markdown",
   "metadata": {},
   "source": [
    "replacedBox == placeholderBox\n",
    "对于replacedBox的情况，想象一个圆形的笑脸.jpg在display:block;后，以上nonreplacedBox的规则都有效。"
   ]
  },
  {
   "cell_type": "markdown",
   "metadata": {
    "ExecuteTime": {
     "end_time": "2018-12-10T04:33:08.944990Z",
     "start_time": "2018-12-10T04:33:08.939875Z"
    }
   },
   "source": [
    "## Section：block的height"
   ]
  },
  {
   "cell_type": "markdown",
   "metadata": {},
   "source": [
    "当block的height设置为%，%依据父block的height。\n",
    "如果block的height设置为%但外block的height没有设置，则%失效(block的height也为auto)。"
   ]
  },
  {
   "cell_type": "markdown",
   "metadata": {},
   "source": [
    "MT,Height,MB中。MT，MB不设置即为0。\n",
    "☆☆☆☆☆block的height不设置时height由block的content及其width匹配。\n",
    "当height有设置：\n",
    "当该height比content所需的多，效果类似与padding。\n",
    "当该height比content所需的少时，block的BR左侧出现scrollbar。"
   ]
  },
  {
   "cell_type": "markdown",
   "metadata": {},
   "source": [
    "box-sizing:border-box下，假设外block只有一个子block：\n",
    "①如果外block没有PB，则外block的contentHeight == 子block的height。\n",
    "②如果外block有PBT或PBB，则外block的contentHeight == 子block的M+height。\n",
    "总之，兄弟block的边界是margin和margin，父子block的边界是子的margin和父的PB。父子之间block：父亲没有PB，子的M，就成为父的M。"
   ]
  },
  {
   "cell_type": "markdown",
   "metadata": {},
   "source": [
    "假设外block只有一个子line-box，block的height == line-box的line-height总和。\n",
    "leading就像box-sizing:border-box下的contentWidth。"
   ]
  },
  {
   "cell_type": "markdown",
   "metadata": {},
   "source": [
    "vertically使内block居中于外block，不使用position的方法：\n",
    "明言MTB == ( 外block height - 内block height ) / 2 。"
   ]
  },
  {
   "cell_type": "markdown",
   "metadata": {},
   "source": [
    "兄弟block间的margin，以及其中一个兄弟的子block产生的margin，三个margin，三个margin有正有负的情况下，最大的正margin + 最大的负margin就是最终兄弟单行元素间的margin"
   ]
  },
  {
   "cell_type": "markdown",
   "metadata": {},
   "source": [
    "## Section line-box"
   ]
  },
  {
   "cell_type": "markdown",
   "metadata": {},
   "source": [
    "line-height：\n",
    "line-height:1em;line-height:1;都相对于的是自己的font-size。\n",
    "line-height:1em;先计算后被子元素继承，而line-height:1;先被子元素继承再由子元素自己计算。\n",
    "p {font-size: 14px; line-height: 1;} big {font-size: 250%;} font-size的%相对于的是父元素的font-size。"
   ]
  },
  {
   "cell_type": "markdown",
   "metadata": {},
   "source": [
    "在line-box里的却在inline-box外的text == anonymous text"
   ]
  },
  {
   "cell_type": "markdown",
   "metadata": {},
   "source": [
    "line-box：\n",
    "处理line-box的最好方式是去理解：如果允许无限宽，多行的line-box其实是一行的line-box。\n",
    "line-box，可被打断(breakUp)的元素。\n",
    "line-box没有PB，margin，所以line-box的contentWidth == 外block的contentWidth。"
   ]
  },
  {
   "cell_type": "markdown",
   "metadata": {},
   "source": [
    "在line-box的父元素上设置：\n",
    "text-align:left;则line-box的“左边”与line-box的父元素的LI在一条线上。\n",
    "text-align:justify;则line-box的两侧分别和line-box的父元素的LI,RI在一条线上(此时word-spacing失效)。"
   ]
  },
  {
   "cell_type": "markdown",
   "metadata": {},
   "source": [
    "inline-box：\n",
    "图文control都是line-box里的inline-box。\n",
    "图文control的inline都有content,PB,margin。\n",
    "但文字inline，在纵向上只有content影响其所在inline-box的位置(PB,margin在纵向上只影响其所在inline-box的显示)，对content设置的参数不是传统的height和width而是line-height和font-size。\n",
    "图control的inline，使用传统的height,PB,margin设置"
   ]
  },
  {
   "cell_type": "markdown",
   "metadata": {},
   "source": [
    "一行的line-height和inline-box的line-height：\n",
    "square分基线上部和基线下部。一行文字要拥有统一line-height，但每个字square(font-size)和line-height有大有小，各别文字还vertical-align:4px;的复杂情况下，不慌：\n",
    "每个字各自用自己的leading(line-height减去font-size的值再除以2)增加或减少content顶线到基线的距离，再每个字基线对齐找出content顶线到基线的距离最大的字。"
   ]
  },
  {
   "cell_type": "markdown",
   "metadata": {},
   "source": [
    "font-size == height of em square。\n",
    "字母(glyphs)可能不全在square里面。\n",
    "baseline是在suqare里面的。"
   ]
  },
  {
   "cell_type": "markdown",
   "metadata": {},
   "source": [
    "img是inline-box，意味着img默认在line-box中，意味着img的底线会与文字inline的基线对齐，解决方法：\n",
    "①是把img从inline-box变成block，\n",
    "②是margin-buttom:-10px把他拉下来。"
   ]
  },
  {
   "cell_type": "markdown",
   "metadata": {},
   "source": [
    "vertical-align：\n",
    "vertical-align只对line-box中的图,文,control有效。\n",
    "vertical-align默认baseline，此时图,control的底线对齐文的基线(即使边上没有字母)。\n",
    "当整体vertical-align:baseline，个别:\n",
    "vertical-align: bottom，(图control)底线对齐于整体line-box底线。\n",
    "vertical-align: text-bottom，(图control)底线对齐于只由文字决定的line-box底线。\n",
    "vertical-align: sub，降低图,文,control的位置(相对于文字基线)。\n",
    "vertical-align:100%，4px，提高图,文,control的位置。vertical-align的%相对于的是自己的line-height，对于图,control，line-height的唯一作用是被%用。"
   ]
  },
  {
   "cell_type": "markdown",
   "metadata": {},
   "source": [
    "# Section：Change roles"
   ]
  },
  {
   "cell_type": "markdown",
   "metadata": {},
   "source": [
    "需要把inline的a竖过来怎么办？答案是display:block;"
   ]
  },
  {
   "cell_type": "markdown",
   "metadata": {},
   "source": [
    "需要把block的li平过来怎么办？答案是display:inline;inline-block像文字inline（height,width,text-align失效）。"
   ]
  },
  {
   "cell_type": "markdown",
   "metadata": {},
   "source": [
    "需要把inline-box的几个a平分在一个line-box里怎么办答案是display:inline-block;width:XX%;"
   ]
  },
  {
   "cell_type": "markdown",
   "metadata": {},
   "source": [
    "inline-block像图control的inline，可使用height,width,text-align，底线也与文字inline的基线对齐，width不设置时也是包围内容。"
   ]
  },
  {
   "cell_type": "markdown",
   "metadata": {},
   "source": [
    "# Chapter 10"
   ]
  },
  {
   "cell_type": "markdown",
   "metadata": {},
   "source": [
    "# Section 2.2 Floating"
   ]
  },
  {
   "cell_type": "markdown",
   "metadata": {},
   "source": [
    "float也可以负margin，stickOut出父单行元素。\n",
    "??float负margin时可能需要处理和line-box相互阻挡的问题。"
   ]
  },
  {
   "cell_type": "markdown",
   "metadata": {},
   "source": [
    "floated-element == 左移元素 || 右移元素。\n",
    "可能下移，但不会上移。\n",
    "float和兄弟block之间相互阻挡。\n",
    "兄弟float相互不阻挡。\n",
    "float和父block之间没有margin问题。"
   ]
  },
  {
   "cell_type": "markdown",
   "metadata": {},
   "source": [
    "block成为float后，该block上面的都不变，float会挡住原本后一行的block，但后一行block内的line-box会“行断“这个float(行断元素行断的很彻底啊!)。"
   ]
  },
  {
   "cell_type": "markdown",
   "metadata": {},
   "source": [
    "inline-box成为float后，无论字母inline，还是图control的inline成为float，都会突破出line-box。"
   ]
  },
  {
   "cell_type": "markdown",
   "metadata": {},
   "source": [
    "☆☆☆☆☆float和position的最大区别：\n",
    "float之间互相不阻挡，float与block里的line-box也不阻挡，所以所有float都完全可见。\n",
    "所以会如果两个元素都左移，原来两者位置在左的还是在左，在右的还是在右。\n",
    "所以会如果两个元素一个左移一个右移，左移元素的RO不会在右移元素的LO的右侧，右移元素会下移。\n",
    "所以会如果两个元素都左移，后一个左移元素的RO不会在父block的RO的右侧，后一个左移元素会下移。\n",
    "而position则为阻挡而生。"
   ]
  },
  {
   "cell_type": "markdown",
   "metadata": {},
   "source": [
    "在前两个float一个已经导致另一个下移的情况下，为了简单清晰，第三个float只能在下移的基础上再左右移。"
   ]
  },
  {
   "cell_type": "markdown",
   "metadata": {},
   "source": [
    "单个float的width超过父block的width，这个float stickOut出父block。"
   ]
  },
  {
   "cell_type": "markdown",
   "metadata": {},
   "source": [
    "解决float和兄弟block,父block相互遮挡的问题：\n",
    "在block上设置clear:left;移除float和block相互覆盖到的部分，原理其实是把相互覆盖的部分从block的content区域移到block的margin区域。(通过margin-top增加)\n",
    "所以直接设置block的margin-top更直接。父block直接设置padding。\n",
    "☆☆☆☆☆block的margin-top是block之间的，float相当于是第三者插足。\n",
    "br是inline不是block，所以需要先display:block;后clear:left;才生效。"
   ]
  },
  {
   "cell_type": "markdown",
   "metadata": {},
   "source": [
    "# Section 2.2 Postioning"
   ]
  },
  {
   "cell_type": "markdown",
   "metadata": {},
   "source": [
    "position的top，bottom的%相对于的是父block的height。position的left，right的%相对于的是父block的width。\n",
    "而block的MT，MB的%相对于的是父block的width。"
   ]
  },
  {
   "cell_type": "markdown",
   "metadata": {},
   "source": [
    "position:absolute;或position:fixed; == 容器元素 == position。"
   ]
  },
  {
   "cell_type": "markdown",
   "metadata": {},
   "source": [
    "position:relative; == 定位元素，完全没必要：设置定位元素的top的时候设置bottom，因为始终 top == -bottom。\n",
    "L,T的优先级高于R,B，非auto的R,B优先级高于auto的L,T。"
   ]
  },
  {
   "cell_type": "markdown",
   "metadata": {},
   "source": [
    "容器元素也是block：\n",
    "除了M+Width，现在容器化后，M+Width+LR == 父block的contentWidth。\n",
    "不匹配时先牺牲R。\n",
    "margin不设置并且width有设置，现在还需要当left，right都设置时，margin才平分。"
   ]
  },
  {
   "cell_type": "markdown",
   "metadata": {},
   "source": [
    "position的TRBL依据父block的BT，BR，BB，BL做定位。\n",
    "对于block生成的position，left:0;后，position的LO和父block的LB在一条线上，作为对比，float的LO和父block的LI在一条线上。所以两者的参照系不同。\n",
    "position可以指定父block。"
   ]
  },
  {
   "cell_type": "markdown",
   "metadata": {},
   "source": [
    "position在水平向LR+M+Width == 外block的contentWidth。\n",
    "当五个属性都设置值，牺牲right。\n",
    "当position只设置了width，left自动为0，right自动填充空间。\n",
    "当position只有left设置了，width自动为0，right自动填充空间。\n",
    "当position只有ML,MR为auto，left,width,right都设值，margin平分。"
   ]
  },
  {
   "cell_type": "markdown",
   "metadata": {},
   "source": [
    "position在竖向TB+M+Height：\n",
    "当position只设置了top为0，height自动为0，bottom自动填充空间。\n",
    "当top:0;bottom:0;height:5em;margin:auto 0;此时，margin平分。"
   ]
  },
  {
   "cell_type": "markdown",
   "metadata": {},
   "source": [
    "float的优势在于他的不阻挡原则。\n",
    "width的%和right的%和right:3em是三种缩放思维。\n",
    "float，position都可以随父block尺寸变化而变化。"
   ]
  },
  {
   "cell_type": "markdown",
   "metadata": {},
   "source": [
    "visibility:hidden;和opacity:0;类似，各有优点"
   ]
  }
 ],
 "metadata": {
  "kernelspec": {
   "display_name": "Python 3",
   "language": "python",
   "name": "python3"
  },
  "language_info": {
   "codemirror_mode": {
    "name": "ipython",
    "version": 3
   },
   "file_extension": ".py",
   "mimetype": "text/x-python",
   "name": "python",
   "nbconvert_exporter": "python",
   "pygments_lexer": "ipython3",
   "version": "3.6.6"
  },
  "toc": {
   "base_numbering": 1,
   "nav_menu": {},
   "number_sections": true,
   "sideBar": true,
   "skip_h1_title": false,
   "title_cell": "Table of Contents",
   "title_sidebar": "Contents",
   "toc_cell": false,
   "toc_position": {},
   "toc_section_display": true,
   "toc_window_display": false
  }
 },
 "nbformat": 4,
 "nbformat_minor": 2
}
