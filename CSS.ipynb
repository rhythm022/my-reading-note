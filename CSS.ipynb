{
 "cells": [
  {
   "cell_type": "markdown",
   "metadata": {},
   "source": [
    "font-size等于em square或者叫em box、content area的height。各别黑色字母(glyphs)纵向尺寸可能超过这个font-size。baseline是在em suqare里面的。\n",
    "line-height等于inline-box的height。\n",
    "在leading为负为正的情况下，比如font-size:16px；line-height:18(14)px；多(少)的2px上下平均加(减)。"
   ]
  },
  {
   "cell_type": "markdown",
   "metadata": {},
   "source": [
    "line-height:1em;先计算后被子元素继承；line-height:1;先被子元素继承再计算(所以计算由子元素自己做)"
   ]
  },
  {
   "cell_type": "markdown",
   "metadata": {},
   "source": [
    "vertical-align只对行断元素中的字母、img、form有效。默认情况下vertical-align:baseline，img和form的底边在字母基线上，即使边上没有字母。\n",
    "vertical-align: sub，整体还是基线对齐，个别sub生效的字母的基线高于旁边的基线，sub生效的img的底边会高于旁边的基线。vertical-align:100%，4px类似，提高字母的基线，提高img的底线。\n",
    "vertical-align的%相对于的是自己的line-height。对于img，line-height生效的唯一作用被%用。\n",
    "vertical-align: bottom，个别bottom生效的img的底边和line-box的底边对齐。\n",
    "vertical-align: text-bottom，可以用在第二个img身上用来忽略第一个img的尺寸给line-box带来的影响，第一个img可能vertical-align: middle生效。"
   ]
  },
  {
   "cell_type": "markdown",
   "metadata": {},
   "source": [
    "# Chapter 7"
   ]
  },
  {
   "cell_type": "markdown",
   "metadata": {},
   "source": [
    "脱离文档流的唯二方式：浮动和定位。"
   ]
  },
  {
   "cell_type": "markdown",
   "metadata": {},
   "source": [
    "单行元素overlap的唯二方式：positioned和负Margin。父子单行元素的overlap用负Margin"
   ]
  },
  {
   "cell_type": "markdown",
   "metadata": {},
   "source": [
    "box-sizing:border-box，让width定义为visible box的width，即可见的LB+LP+width+RP+RB。"
   ]
  },
  {
   "cell_type": "markdown",
   "metadata": {},
   "source": [
    "Replaced-box= placeholder-box。"
   ]
  },
  {
   "cell_type": "markdown",
   "metadata": {},
   "source": [
    "块状元素 = 单行元素，单行元素的LM+LB+LP+width+RP+RB+RM必须匹配外元素的width。"
   ]
  },
  {
   "cell_type": "markdown",
   "metadata": {},
   "source": [
    "LM，LB，LP，width，RP，RB，RM中只有LM，width，RM可以auto有效。其中只有LM，RM可为负值。\n",
    "LB，LP，RB，RP要么指定值，不指定就为0。\n",
    "☆☆☆☆☆width有minimum，各个浏览器的这个值不同，所以盒子可以height=0，但至少有宽，所以单行元素至少占一行。"
   ]
  },
  {
   "cell_type": "markdown",
   "metadata": {},
   "source": [
    "三个可以auto的值完成了单行元素与外元素横向上的匹配。\n",
    "当LM，width，RM被设置的同时单行元素和外元素width不匹配，牺牲LM无论LM原来是什么值。\n",
    "三个中，三个或二个被设置了值的情况，没什么特别的，三个或二个是auto的情况比较特殊。其中，LM，RM为auto的情况和LM，RM，width都auto的情况又算比较常见，width和一个M为auto的情况比较少见，这种情况，那个M的值会是0。\n",
    "即只要width auto了，LM，RM auto生效时值为0."
   ]
  },
  {
   "cell_type": "markdown",
   "metadata": {},
   "source": [
    "对于Replaced-box的情况，想象一个圆形的笑脸.jpg在display:block;有效后，以上nonreplacedBox的规则都有效，外加一条，当width设置而height未设置，height会按比例自动设置值。"
   ]
  },
  {
   "cell_type": "markdown",
   "metadata": {
    "ExecuteTime": {
     "end_time": "2018-12-10T04:33:08.944990Z",
     "start_time": "2018-12-10T04:33:08.939875Z"
    }
   },
   "source": [
    "## Section：height"
   ]
  },
  {
   "cell_type": "markdown",
   "metadata": {},
   "source": [
    "TM，TB，TP，height，BP，BB，BM中，TM，BM，height可以auto有效。TM，BM auto生效时等于为0。\n",
    "☆☆☆☆☆单行元素的height可以auto有效，此时height由单行元素的content及其width匹配。当explicitly设置height，当该height比content所需的多，效果类似与padding，当该height比content所需的少时，单行元素RB边上出现scrollbar。"
   ]
  },
  {
   "cell_type": "markdown",
   "metadata": {},
   "source": [
    "当单行元素的height设置为%，%依据父元素的height。如果单行元素的height设置为%但外元素的height没有设置或为auto，则%失效，单行元素的height也为auto。"
   ]
  },
  {
   "cell_type": "markdown",
   "metadata": {},
   "source": [
    "如果单行元素的content只是一个子单行元素，auto分两种情况，☆☆☆☆如果单行元素没有TB，TP，BP，BB，则单行元素的height是和子单行元素的TB+TP+height+BP+BB匹配。\n",
    "如果单行元素设定了TB，TP之一和BP，BB之一，则单行元素的height和子单行元素的TM+TB+TP+height+BP+BB+BM匹配。\n",
    "总之，兄弟单行元素的边界是margin和margin，父子单行元素的边界是子的margin和父的padding，border。父子之间的逻辑就是父亲没有p，b，子的m，就成为父的m。兄弟间的逻辑是overlap。"
   ]
  },
  {
   "cell_type": "markdown",
   "metadata": {},
   "source": [
    "如果单行元素的content只是一个行断元素，单行元素height auto生效则单行元素的height和行断元素的行高总和相匹配。"
   ]
  },
  {
   "cell_type": "markdown",
   "metadata": {},
   "source": [
    "竖向上使单行元素居中于外元素，暂时唯一的方法，explicitly外元素height减去单行元素height后平分剩下的尺寸。"
   ]
  },
  {
   "cell_type": "markdown",
   "metadata": {},
   "source": [
    "兄弟单行元素间的margin，以及其中一个兄弟的子单行元素产生的margin，三个margin，三个margin有正有负的情况下，最大的正margin减去最大的负margin就是最终兄弟单行元素间的margin"
   ]
  },
  {
   "cell_type": "markdown",
   "metadata": {},
   "source": [
    "## Section"
   ]
  },
  {
   "cell_type": "markdown",
   "metadata": {},
   "source": [
    "处理行断的最好方式是去理解：如果允许无限width，多行的line-box其实是一行的line-box。\n",
    "line-box = 行断元素，可被打断(breakUp)的元素。\n",
    "行断元素的width与外单行元素的width匹配。"
   ]
  },
  {
   "cell_type": "markdown",
   "metadata": {},
   "source": [
    "如果没有M，P，第一行的BB被覆盖在第二行的TB下。\n",
    "行断元素的“左边”与行断元素的父元素的LI在一条线上，是text-align:left;生效的结果。\n",
    "text-align:justify;生效，则行断元素的两侧分别和行断元素父元素的LI，RI在一条线上。（此时word-spacing失效）"
   ]
  },
  {
   "cell_type": "markdown",
   "metadata": {},
   "source": [
    "在行断元素里的却不在inline-box里的text=Anonymous text"
   ]
  },
  {
   "cell_type": "markdown",
   "metadata": {},
   "source": [
    "inline-box有img，form，字母等。对于字母，inline-box的height是line-height，对于img，form，inline-box的height是TM+TB+TP+height+BP+BB+BM"
   ]
  },
  {
   "cell_type": "markdown",
   "metadata": {},
   "source": [
    "inline-box的contentArea和模拟单行元素的content。\n",
    "inline-box的Background作用在contentArea以及Padding区域，和单行元素的Background一样。\n",
    "对于字母，inline-box的竖向只有line-height，font-size，没有TM，TB，TP，height，BP，BB，BM"
   ]
  },
  {
   "cell_type": "markdown",
   "metadata": {},
   "source": [
    "我们常常在单行元素里设置line-height，这个line-height会进入单行元素中的行断元素，再进入行断元素中的字母型inline-box，在这个inline-box上生效。"
   ]
  },
  {
   "cell_type": "markdown",
   "metadata": {},
   "source": [
    "☆☆☆☆☆font-size分基线上部和基线下部。\n",
    "一行字母拥有统一line-height，但font-size有大有小，各别单词还vertical-align:4px;生效的复杂情况下，不慌，各单词分别各自用line-height减去font-size计算上部到基线的距离和下部到基线的距离，再基线对齐找出哪个单词上部到基线的距离最大，哪个单词下部到基线的距离最大。"
   ]
  },
  {
   "cell_type": "markdown",
   "metadata": {},
   "source": [
    "line-height:1em;相对于的是自己的font-size。\n",
    "p {font-size: 14px; line-height: 1;} big {font-size: 250%;} 一劳永逸"
   ]
  },
  {
   "cell_type": "markdown",
   "metadata": {},
   "source": [
    "TM，TB，TP，BP，BB，BM虽然不会对inline-box在尺寸上产生影响，但视觉上border:5px solid black;padding:2px;margin:-20px;都会生效，所以这时候可能需要人为用line-height给border一些空间，比如说现在这种情况，就需要有至少line-height:10px;,上下部会平分这些line-height"
   ]
  },
  {
   "cell_type": "markdown",
   "metadata": {},
   "source": [
    "font-size的%相对于的是父元素的font-size"
   ]
  },
  {
   "cell_type": "markdown",
   "metadata": {},
   "source": [
    "img默认是inline-box，意味着img默认在行断元素中，意味着img会悬空，解决方法①是把img默认的inline-box变成display:block，②是margin-buttom:-10px把他拉下来。"
   ]
  },
  {
   "cell_type": "markdown",
   "metadata": {},
   "source": [
    "# Section：Change roles"
   ]
  },
  {
   "cell_type": "markdown",
   "metadata": {},
   "source": [
    "需要把inline-box的a竖过来怎么办？答案是display:block;，单行元素"
   ]
  },
  {
   "cell_type": "markdown",
   "metadata": {},
   "source": [
    "需要把block的li平过来怎么办？答案是display:inline;，代价是height，width，text-align失效"
   ]
  },
  {
   "cell_type": "markdown",
   "metadata": {},
   "source": [
    "需要把inline-box的几个a平分在一个行断元素里怎么办答案是display:inline-block;width:几%;"
   ]
  },
  {
   "cell_type": "markdown",
   "metadata": {},
   "source": [
    "inline-block的最像是replaced-box如img，inline-block底边也在基线上，也可以有height、width，width auto生效时也是包围content。"
   ]
  },
  {
   "cell_type": "markdown",
   "metadata": {},
   "source": [
    "只有block对text-align有效。"
   ]
  },
  {
   "cell_type": "markdown",
   "metadata": {},
   "source": [
    "# Chapter 10:floating and positioning"
   ]
  },
  {
   "cell_type": "markdown",
   "metadata": {},
   "source": [
    "floated-element=左移元素，右移元素（可能下移），并和单行元素相互阻挡。移动元素没有margin问题。兄弟移动元素相互不阻挡，父子移动元素互不阻挡"
   ]
  },
  {
   "cell_type": "markdown",
   "metadata": {},
   "source": [
    "单行元素float:left;生效成为移动元素后，单行元素前一行当然不受影响，移动元素会和原本后一行的单行元素相互遮挡，但后一行单行元素内的行断元素会“行断“这个移动元素。行断元素行断的很彻底啊。移动元素也会和父单行元素相互阻挡。"
   ]
  },
  {
   "cell_type": "markdown",
   "metadata": {},
   "source": [
    "行断元素中inline-box float:left;生效成为移动元素后，无论字母型inline-box，还是img型inline-box成为移动元素后，都会突破出行断元素。"
   ]
  },
  {
   "cell_type": "markdown",
   "metadata": {},
   "source": [
    "☆☆☆☆☆移动元素和定位元素的最大区别在于，移动元素互相不会阻挡所有移动元素都完全可见，移动元素也不阻挡单行元素的行断元素。定位元素则一般情况下都会阻挡。所以会如果两个元素都左移，原来两者位置在左的还是在左，在右的还是在右。所以会如果两个元素一个左移一个右移，左移元素的RO不会在右移元素的LO的右侧，右移元素会下移。或者如果两个元素都左移，后一个左移元素的RO不会在父单行元素的RO的右侧，后一个左移元素会下移。"
   ]
  },
  {
   "cell_type": "markdown",
   "metadata": {},
   "source": [
    "在前两个移动元素一个已经导致另一个下移的情况下，为了简单清晰，第三个移动元素只能在下移的基础上再左右移"
   ]
  },
  {
   "cell_type": "markdown",
   "metadata": {},
   "source": [
    "单个移动元素的width超过父单行元素的width，这个移动元素stickOut出父单行元素。"
   ]
  },
  {
   "cell_type": "markdown",
   "metadata": {},
   "source": [
    "移动元素也负margin生效，stickOut出父单行元素。\n",
    "移动元素负margin生效，可能需要处理和行断元素相互阻挡的问题。"
   ]
  },
  {
   "cell_type": "markdown",
   "metadata": {},
   "source": [
    "☆☆☆☆☆解决移动元素和兄弟单行元素，父单行元素相互遮挡的问题，用clear:left;清除左侧相互覆盖到的部分，原理其实是把相互覆盖的部分从content区域移动margin区域。margin-top增加了，原来的margin-top失效。\n",
    "☆☆☆☆☆兄弟单行元素margin-top并不是相对于移动元素的\n",
    "最直接的方式消除遮挡，兄弟单行元素直接设置margin-top。父单行元素直接设置padding。\n",
    "br是inline-element不是单行元素，所以对clear:left;无效，所以需要先display:block;后clear:left;才生效。"
   ]
  },
  {
   "cell_type": "markdown",
   "metadata": {},
   "source": [
    "# Section 2.2"
   ]
  },
  {
   "cell_type": "markdown",
   "metadata": {},
   "source": [
    "容器元素也是受制于其父单行元素的，L+LM+LB+LP+width+RP+RB+RM+R要与父单行元素匹配，不匹配时牺牲right。容器元素只有当left，right都explicitly设置时，margin:auto生效时才居中平分margin值，否则margin为零。"
   ]
  },
  {
   "cell_type": "markdown",
   "metadata": {},
   "source": [
    "position:absolute;或position:fixed;生效=容器元素，是特殊block元素。"
   ]
  },
  {
   "cell_type": "markdown",
   "metadata": {},
   "source": [
    "对于单行元素生成的容器元素，left:0;生效后，容器元素的LO和父单行元素的LB在一条线上，作为对比，移动元素float:left生效后移动元素的LO和父单行元素的LI在一条线上。所以两者的参照系不同。定位元素在offsetProperty生效后，依据父单行元素的TB，RB，BB，LB做定位。\n",
    "容器元素可以指定父单行元素。\n",
    "容器元素可以不动，而移动元素只能移动。"
   ]
  },
  {
   "cell_type": "markdown",
   "metadata": {},
   "source": [
    "移动元素的优势在于他的不阻挡原则更规矩。\n",
    "width的%和right的%和right:3em是三种缩放思维。\n",
    "移动元素，容器元素都可以随父单行元素尺寸变化而变化。"
   ]
  },
  {
   "cell_type": "markdown",
   "metadata": {},
   "source": [
    "定位元素的top，bottom的%相对于的是父单行元素的height。定位元素的left，right的%相对于的是父单行元素的width。而TM，BM的%相对于的是父单行元素的width。"
   ]
  },
  {
   "cell_type": "markdown",
   "metadata": {},
   "source": [
    "L,T的优先级高于R,B，非auto的R,B优先级高于auto的L,T。"
   ]
  },
  {
   "cell_type": "markdown",
   "metadata": {},
   "source": [
    "visibility:hidden;和opacity:0;类似，各有优点"
   ]
  },
  {
   "cell_type": "markdown",
   "metadata": {},
   "source": [
    "容器元素在水平向9个属性去匹配外单行元素的width，L，LM，width，RM，R，5个auto有效。当容器元素L为0，LM，RM不设置，width为auto，right为auto的情况，right牺牲width shrink，当容器元素只有LM，RM为auto，其他三个均有值，容器元素居中。当五个属性都设置值，牺牲right。"
   ]
  },
  {
   "cell_type": "markdown",
   "metadata": {},
   "source": [
    "容器元素在竖向9个属性中，T，TM，height，BM，B auto有效。当容器元素T为0，TM，BM不设置，height为auto，bottom为auto的情况，bottom牺牲。当top:0;bottom:0;height:5em;margin:auto 0;此时margin-top，margin-bottom auto生效可以居中。"
   ]
  },
  {
   "cell_type": "markdown",
   "metadata": {},
   "source": [
    "定位元素=position:relative;，完全没必要设置定位元素的top的时候设置bottom，top===-bottom。"
   ]
  },
  {
   "cell_type": "markdown",
   "metadata": {},
   "source": []
  },
  {
   "cell_type": "markdown",
   "metadata": {},
   "source": []
  },
  {
   "cell_type": "markdown",
   "metadata": {},
   "source": []
  },
  {
   "cell_type": "markdown",
   "metadata": {},
   "source": []
  },
  {
   "cell_type": "markdown",
   "metadata": {},
   "source": []
  }
 ],
 "metadata": {
  "kernelspec": {
   "display_name": "Python 3",
   "language": "python",
   "name": "python3"
  },
  "language_info": {
   "codemirror_mode": {
    "name": "ipython",
    "version": 3
   },
   "file_extension": ".py",
   "mimetype": "text/x-python",
   "name": "python",
   "nbconvert_exporter": "python",
   "pygments_lexer": "ipython3",
   "version": "3.6.6"
  },
  "toc": {
   "base_numbering": 1,
   "nav_menu": {},
   "number_sections": true,
   "sideBar": true,
   "skip_h1_title": false,
   "title_cell": "Table of Contents",
   "title_sidebar": "Contents",
   "toc_cell": false,
   "toc_position": {},
   "toc_section_display": true,
   "toc_window_display": false
  }
 },
 "nbformat": 4,
 "nbformat_minor": 2
}
